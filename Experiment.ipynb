{
 "cells": [
  {
   "cell_type": "code",
   "execution_count": null,
   "id": "0c58ecb9-dffa-4ffc-933a-48218be0582e",
   "metadata": {},
   "outputs": [],
   "source": [
    "import warnings\n",
    "\n",
    "warnings.filterwarnings('ignore')"
   ]
  },
  {
   "cell_type": "code",
   "execution_count": null,
   "id": "455ca573-0a84-450e-b183-4e2b1b727829",
   "metadata": {},
   "outputs": [],
   "source": [
    "import pandas as pd\n",
    "import numpy as np\n",
    "import cv2\n",
    "import matplotlib.pyplot as plt\n",
    "\n",
    "import os\n",
    "\n",
    "import random\n",
    "\n",
    "from utils import *"
   ]
  },
  {
   "cell_type": "markdown",
   "id": "0adad5c9-9c60-4f2b-8765-6b99ef9e5628",
   "metadata": {},
   "source": [
    "1. Some files have original 0hr some files have eval (with contours detected). Some even both\n",
    "\n",
    "2. For those that were not extracted using opencv, check if they have eval files"
   ]
  },
  {
   "cell_type": "code",
   "execution_count": null,
   "id": "e8b22789-42f4-47b0-aca7-6fbe3816ad38",
   "metadata": {},
   "outputs": [],
   "source": [
    "images = []\n",
    "\n",
    "for i, file in enumerate(os.listdir('data/zero_hour_images')):\n",
    "    \n",
    "    if 'tif' not in file and '0Hr' not in file:\n",
    "        continue\n",
    "\n",
    "    try:\n",
    "        img = cv2.imread('data/zero_hour_images/{}'.format(file))\n",
    "    except:\n",
    "        continue\n",
    "            \n",
    "    images.append((file, img))\n",
    "    \n",
    "    print('{}'.format(i+1), end='\\r', flush=True)"
   ]
  },
  {
   "cell_type": "code",
   "execution_count": null,
   "id": "5f4eb90d-430b-4d4b-b71b-95b7879a7c6d",
   "metadata": {},
   "outputs": [],
   "source": [
    "len(images)"
   ]
  },
  {
   "cell_type": "code",
   "execution_count": null,
   "id": "3db11753-7532-47e2-9daf-9b884a94b08e",
   "metadata": {},
   "outputs": [],
   "source": [
    "# all_extracted = []\n",
    "# failed_images = []\n",
    "# total = 0\n",
    "\n",
    "# for img in images:\n",
    "    \n",
    "#     try:\n",
    "#         ex = show_processed_image(img[1], False)\n",
    "#     except:\n",
    "#         failed_images.append(img[0])\n",
    "#         continue\n",
    "        \n",
    "#     all_extracted.append((img[0], ex))\n",
    "#     total += 1\n",
    "#     print('{}/{} have been extracted'.format(total, len(images)), end='\\r', flush=True)\n",
    "    \n",
    "# # pd.DataFrame(failed_images, columns=['File']).to_csv('data/failed_extraction_list.csv', index=False)"
   ]
  },
  {
   "cell_type": "code",
   "execution_count": null,
   "id": "3eef7287-fcec-48c7-b3ce-0ceeefe619b7",
   "metadata": {},
   "outputs": [],
   "source": []
  },
  {
   "cell_type": "code",
   "execution_count": null,
   "id": "0d5fd83d-a33e-4f9a-9be6-f5c0996338e5",
   "metadata": {},
   "outputs": [],
   "source": []
  },
  {
   "cell_type": "code",
   "execution_count": null,
   "id": "6e7f169e-c74c-4e83-a73a-03739803b03e",
   "metadata": {},
   "outputs": [],
   "source": []
  },
  {
   "cell_type": "code",
   "execution_count": null,
   "id": "7b008770-4214-40f6-a58e-06ce8e7dda67",
   "metadata": {},
   "outputs": [],
   "source": []
  },
  {
   "cell_type": "code",
   "execution_count": null,
   "id": "8d170a80-cebc-4aa4-90fa-b784c21cd3f9",
   "metadata": {},
   "outputs": [],
   "source": []
  }
 ],
 "metadata": {
  "kernelspec": {
   "display_name": "capstone",
   "language": "python",
   "name": "capstone"
  },
  "language_info": {
   "codemirror_mode": {
    "name": "ipython",
    "version": 3
   },
   "file_extension": ".py",
   "mimetype": "text/x-python",
   "name": "python",
   "nbconvert_exporter": "python",
   "pygments_lexer": "ipython3",
   "version": "3.8.10"
  }
 },
 "nbformat": 4,
 "nbformat_minor": 5
}
