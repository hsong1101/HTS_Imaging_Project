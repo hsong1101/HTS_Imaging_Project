{
 "cells": [
  {
   "cell_type": "markdown",
   "id": "aaebeef4-b602-4ec8-ac8f-aef0f7ba8f55",
   "metadata": {},
   "source": [
    "# Capstone Project: Modeling - Classification Models"
   ]
  },
  {
   "cell_type": "code",
   "execution_count": 1,
   "id": "b7515273-9baf-44ac-9115-1893b61678b4",
   "metadata": {},
   "outputs": [],
   "source": [
    "import warnings\n",
    "\n",
    "warnings.filterwarnings('ignore')"
   ]
  },
  {
   "cell_type": "code",
   "execution_count": 2,
   "id": "722e023f-4ce3-44ee-b01c-2a6faed3de3c",
   "metadata": {},
   "outputs": [],
   "source": [
    "import pandas as pd\n",
    "import numpy as np\n",
    "import os\n",
    "\n",
    "import json\n",
    "import random\n",
    "\n",
    "import matplotlib.pyplot as plt\n",
    "import seaborn as sns\n",
    "\n",
    "# Preprocessing for modeling\n",
    "from sklearn.model_selection import train_test_split, cross_val_score, KFold\n",
    "from sklearn.metrics import confusion_matrix, accuracy_score, classification_report\n",
    "from sklearn import metrics, linear_model, tree\n",
    "\n",
    "# Classic ML Classification Models\n",
    "from sklearn.linear_model import LogisticRegression\n",
    "from sklearn.naive_bayes import GaussianNB, MultinomialNB\n",
    "from sklearn.neighbors import KNeighborsClassifier\n",
    "from sklearn.svm import SVC\n",
    "from sklearn.discriminant_analysis import QuadraticDiscriminantAnalysis, LinearDiscriminantAnalysis\n",
    "from sklearn.ensemble import RandomForestClassifier, GradientBoostingClassifier\n",
    "import xgboost as xgb\n",
    "\n",
    "from imblearn.over_sampling import SMOTE\n",
    "\n",
    "import pickle"
   ]
  },
  {
   "cell_type": "markdown",
   "id": "4e719046-5506-46ef-b6a9-a44d331e7a84",
   "metadata": {},
   "source": [
    "## Load Dataset"
   ]
  },
  {
   "cell_type": "code",
   "execution_count": 3,
   "id": "83663fe7-cf13-49c8-8077-f8136456bd17",
   "metadata": {},
   "outputs": [],
   "source": [
    "ml_df = pd.read_csv('data/ML_Dataset.csv')"
   ]
  },
  {
   "cell_type": "code",
   "execution_count": 4,
   "id": "d4fb61d7-ff13-49ef-be5e-11b23243aef6",
   "metadata": {},
   "outputs": [
    {
     "data": {
      "text/html": [
       "<div>\n",
       "<style scoped>\n",
       "    .dataframe tbody tr th:only-of-type {\n",
       "        vertical-align: middle;\n",
       "    }\n",
       "\n",
       "    .dataframe tbody tr th {\n",
       "        vertical-align: top;\n",
       "    }\n",
       "\n",
       "    .dataframe thead th {\n",
       "        text-align: right;\n",
       "    }\n",
       "</style>\n",
       "<table border=\"1\" class=\"dataframe\">\n",
       "  <thead>\n",
       "    <tr style=\"text-align: right;\">\n",
       "      <th></th>\n",
       "      <th>GRP1</th>\n",
       "      <th>GRP2</th>\n",
       "      <th>GRP3</th>\n",
       "      <th>GRP4</th>\n",
       "      <th>REGRESSION_R2</th>\n",
       "      <th>EC50Y</th>\n",
       "      <th>OMIT_CALL</th>\n",
       "      <th>MEASURE_T0_BASE_VALUE</th>\n",
       "      <th>MENISCUS_LENGTH</th>\n",
       "      <th>EC50X</th>\n",
       "      <th>...</th>\n",
       "      <th>2038</th>\n",
       "      <th>2039</th>\n",
       "      <th>2040</th>\n",
       "      <th>2041</th>\n",
       "      <th>2042</th>\n",
       "      <th>2043</th>\n",
       "      <th>2044</th>\n",
       "      <th>2045</th>\n",
       "      <th>2046</th>\n",
       "      <th>2047</th>\n",
       "    </tr>\n",
       "  </thead>\n",
       "  <tbody>\n",
       "    <tr>\n",
       "      <th>0</th>\n",
       "      <td>1</td>\n",
       "      <td>0</td>\n",
       "      <td>0</td>\n",
       "      <td>0</td>\n",
       "      <td>0.998637</td>\n",
       "      <td>0.880752</td>\n",
       "      <td>1</td>\n",
       "      <td>1.8924</td>\n",
       "      <td>1.8924</td>\n",
       "      <td>1.7594</td>\n",
       "      <td>...</td>\n",
       "      <td>0.0</td>\n",
       "      <td>0.155963</td>\n",
       "      <td>0.0</td>\n",
       "      <td>0.0</td>\n",
       "      <td>0.00000</td>\n",
       "      <td>0.0</td>\n",
       "      <td>0.000000</td>\n",
       "      <td>0.0</td>\n",
       "      <td>0.0</td>\n",
       "      <td>0.0</td>\n",
       "    </tr>\n",
       "    <tr>\n",
       "      <th>1</th>\n",
       "      <td>1</td>\n",
       "      <td>0</td>\n",
       "      <td>0</td>\n",
       "      <td>0</td>\n",
       "      <td>0.999266</td>\n",
       "      <td>0.778462</td>\n",
       "      <td>1</td>\n",
       "      <td>2.0520</td>\n",
       "      <td>2.0520</td>\n",
       "      <td>1.8737</td>\n",
       "      <td>...</td>\n",
       "      <td>0.0</td>\n",
       "      <td>0.009089</td>\n",
       "      <td>0.0</td>\n",
       "      <td>0.0</td>\n",
       "      <td>0.00000</td>\n",
       "      <td>0.0</td>\n",
       "      <td>0.000000</td>\n",
       "      <td>0.0</td>\n",
       "      <td>0.0</td>\n",
       "      <td>0.0</td>\n",
       "    </tr>\n",
       "    <tr>\n",
       "      <th>2</th>\n",
       "      <td>1</td>\n",
       "      <td>0</td>\n",
       "      <td>0</td>\n",
       "      <td>0</td>\n",
       "      <td>0.997888</td>\n",
       "      <td>0.876217</td>\n",
       "      <td>1</td>\n",
       "      <td>1.7784</td>\n",
       "      <td>1.7784</td>\n",
       "      <td>1.7339</td>\n",
       "      <td>...</td>\n",
       "      <td>0.0</td>\n",
       "      <td>1.111396</td>\n",
       "      <td>0.0</td>\n",
       "      <td>0.0</td>\n",
       "      <td>0.00000</td>\n",
       "      <td>0.0</td>\n",
       "      <td>0.036014</td>\n",
       "      <td>0.0</td>\n",
       "      <td>0.0</td>\n",
       "      <td>0.0</td>\n",
       "    </tr>\n",
       "    <tr>\n",
       "      <th>3</th>\n",
       "      <td>1</td>\n",
       "      <td>0</td>\n",
       "      <td>0</td>\n",
       "      <td>0</td>\n",
       "      <td>0.998210</td>\n",
       "      <td>0.881212</td>\n",
       "      <td>1</td>\n",
       "      <td>1.9152</td>\n",
       "      <td>1.9152</td>\n",
       "      <td>1.7677</td>\n",
       "      <td>...</td>\n",
       "      <td>0.0</td>\n",
       "      <td>0.731969</td>\n",
       "      <td>0.0</td>\n",
       "      <td>0.0</td>\n",
       "      <td>0.00000</td>\n",
       "      <td>0.0</td>\n",
       "      <td>0.009445</td>\n",
       "      <td>0.0</td>\n",
       "      <td>0.0</td>\n",
       "      <td>0.0</td>\n",
       "    </tr>\n",
       "    <tr>\n",
       "      <th>4</th>\n",
       "      <td>1</td>\n",
       "      <td>0</td>\n",
       "      <td>0</td>\n",
       "      <td>0</td>\n",
       "      <td>0.999372</td>\n",
       "      <td>0.836531</td>\n",
       "      <td>0</td>\n",
       "      <td>2.1660</td>\n",
       "      <td>2.1660</td>\n",
       "      <td>1.8894</td>\n",
       "      <td>...</td>\n",
       "      <td>0.0</td>\n",
       "      <td>0.000000</td>\n",
       "      <td>0.0</td>\n",
       "      <td>0.0</td>\n",
       "      <td>0.05862</td>\n",
       "      <td>0.0</td>\n",
       "      <td>0.000000</td>\n",
       "      <td>0.0</td>\n",
       "      <td>0.0</td>\n",
       "      <td>0.0</td>\n",
       "    </tr>\n",
       "  </tbody>\n",
       "</table>\n",
       "<p>5 rows × 2061 columns</p>\n",
       "</div>"
      ],
      "text/plain": [
       "   GRP1  GRP2  GRP3  GRP4  REGRESSION_R2     EC50Y  OMIT_CALL  \\\n",
       "0     1     0     0     0       0.998637  0.880752          1   \n",
       "1     1     0     0     0       0.999266  0.778462          1   \n",
       "2     1     0     0     0       0.997888  0.876217          1   \n",
       "3     1     0     0     0       0.998210  0.881212          1   \n",
       "4     1     0     0     0       0.999372  0.836531          0   \n",
       "\n",
       "   MEASURE_T0_BASE_VALUE  MENISCUS_LENGTH   EC50X  ...  2038      2039  2040  \\\n",
       "0                 1.8924           1.8924  1.7594  ...   0.0  0.155963   0.0   \n",
       "1                 2.0520           2.0520  1.8737  ...   0.0  0.009089   0.0   \n",
       "2                 1.7784           1.7784  1.7339  ...   0.0  1.111396   0.0   \n",
       "3                 1.9152           1.9152  1.7677  ...   0.0  0.731969   0.0   \n",
       "4                 2.1660           2.1660  1.8894  ...   0.0  0.000000   0.0   \n",
       "\n",
       "   2041     2042  2043      2044  2045  2046  2047  \n",
       "0   0.0  0.00000   0.0  0.000000   0.0   0.0   0.0  \n",
       "1   0.0  0.00000   0.0  0.000000   0.0   0.0   0.0  \n",
       "2   0.0  0.00000   0.0  0.036014   0.0   0.0   0.0  \n",
       "3   0.0  0.00000   0.0  0.009445   0.0   0.0   0.0  \n",
       "4   0.0  0.05862   0.0  0.000000   0.0   0.0   0.0  \n",
       "\n",
       "[5 rows x 2061 columns]"
      ]
     },
     "execution_count": 4,
     "metadata": {},
     "output_type": "execute_result"
    }
   ],
   "source": [
    "ml_df.head()"
   ]
  },
  {
   "cell_type": "markdown",
   "id": "bb7f03f8-6389-4ba2-b7ce-0071bf380ace",
   "metadata": {},
   "source": [
    "## Train/Test Split"
   ]
  },
  {
   "cell_type": "code",
   "execution_count": 5,
   "id": "991dafc5-3101-4517-bd60-0943393f6672",
   "metadata": {},
   "outputs": [],
   "source": [
    "X_train, X_test, y_train, y_test = train_test_split(ml_df.drop(columns=['OMIT_CALL']), \n",
    "                                                    ml_df['OMIT_CALL'], \n",
    "                                                    test_size=0.20, \n",
    "                                                    random_state=42)"
   ]
  },
  {
   "cell_type": "code",
   "execution_count": 6,
   "id": "d8136fba-09f7-4a7f-9a35-ccc699d2ce23",
   "metadata": {},
   "outputs": [],
   "source": [
    "sm = SMOTE(sampling_strategy='not majority', random_state=42, n_jobs=4)\n",
    "X_train, y_train = sm.fit_resample(X_train, y_train)"
   ]
  },
  {
   "cell_type": "code",
   "execution_count": 7,
   "id": "36440f36-6d24-4be3-9523-5bd11b3da3a9",
   "metadata": {},
   "outputs": [
    {
     "name": "stdout",
     "output_type": "stream",
     "text": [
      "OMIT has been oversampled to 50.00 percent\n"
     ]
    }
   ],
   "source": [
    "ovsmp = (y_train[y_train == 0].shape[0] / y_train.shape[0]) * 100\n",
    "print('OMIT has been oversampled to %2.2f percent' % ovsmp)"
   ]
  },
  {
   "cell_type": "code",
   "execution_count": 8,
   "id": "7b083412-80fc-4880-95ad-c293bac8f988",
   "metadata": {},
   "outputs": [
    {
     "data": {
      "text/html": [
       "<div>\n",
       "<style scoped>\n",
       "    .dataframe tbody tr th:only-of-type {\n",
       "        vertical-align: middle;\n",
       "    }\n",
       "\n",
       "    .dataframe tbody tr th {\n",
       "        vertical-align: top;\n",
       "    }\n",
       "\n",
       "    .dataframe thead th {\n",
       "        text-align: right;\n",
       "    }\n",
       "</style>\n",
       "<table border=\"1\" class=\"dataframe\">\n",
       "  <thead>\n",
       "    <tr style=\"text-align: right;\">\n",
       "      <th></th>\n",
       "      <th>GRP1</th>\n",
       "      <th>GRP2</th>\n",
       "      <th>GRP3</th>\n",
       "      <th>GRP4</th>\n",
       "      <th>REGRESSION_R2</th>\n",
       "      <th>EC50Y</th>\n",
       "      <th>MEASURE_T0_BASE_VALUE</th>\n",
       "      <th>MENISCUS_LENGTH</th>\n",
       "      <th>EC50X</th>\n",
       "      <th>ESTIMATE_AUC</th>\n",
       "      <th>DRUG_DRY</th>\n",
       "      <th>DRUG_CONTROL</th>\n",
       "      <th>0</th>\n",
       "      <th>1</th>\n",
       "      <th>2</th>\n",
       "      <th>3</th>\n",
       "      <th>4</th>\n",
       "      <th>5</th>\n",
       "      <th>6</th>\n",
       "      <th>7</th>\n",
       "    </tr>\n",
       "  </thead>\n",
       "  <tbody>\n",
       "    <tr>\n",
       "      <th>0</th>\n",
       "      <td>0</td>\n",
       "      <td>0</td>\n",
       "      <td>1</td>\n",
       "      <td>0</td>\n",
       "      <td>0.999823</td>\n",
       "      <td>0.644072</td>\n",
       "      <td>0.387600</td>\n",
       "      <td>0.387600</td>\n",
       "      <td>0.477700</td>\n",
       "      <td>0.116910</td>\n",
       "      <td>1</td>\n",
       "      <td>0</td>\n",
       "      <td>0.000191</td>\n",
       "      <td>0.003963</td>\n",
       "      <td>0.002464</td>\n",
       "      <td>0.0</td>\n",
       "      <td>0.000000</td>\n",
       "      <td>0.0</td>\n",
       "      <td>0.229395</td>\n",
       "      <td>0.0</td>\n",
       "    </tr>\n",
       "    <tr>\n",
       "      <th>1</th>\n",
       "      <td>0</td>\n",
       "      <td>0</td>\n",
       "      <td>1</td>\n",
       "      <td>0</td>\n",
       "      <td>0.999476</td>\n",
       "      <td>0.119769</td>\n",
       "      <td>1.288200</td>\n",
       "      <td>1.288200</td>\n",
       "      <td>1.717000</td>\n",
       "      <td>0.143461</td>\n",
       "      <td>0</td>\n",
       "      <td>0</td>\n",
       "      <td>0.027013</td>\n",
       "      <td>0.000000</td>\n",
       "      <td>0.000000</td>\n",
       "      <td>0.0</td>\n",
       "      <td>0.027370</td>\n",
       "      <td>0.0</td>\n",
       "      <td>0.232266</td>\n",
       "      <td>0.0</td>\n",
       "    </tr>\n",
       "    <tr>\n",
       "      <th>2</th>\n",
       "      <td>1</td>\n",
       "      <td>0</td>\n",
       "      <td>0</td>\n",
       "      <td>0</td>\n",
       "      <td>0.999880</td>\n",
       "      <td>0.443597</td>\n",
       "      <td>1.607400</td>\n",
       "      <td>1.607400</td>\n",
       "      <td>2.093400</td>\n",
       "      <td>0.488588</td>\n",
       "      <td>0</td>\n",
       "      <td>0</td>\n",
       "      <td>0.011757</td>\n",
       "      <td>0.000000</td>\n",
       "      <td>0.001987</td>\n",
       "      <td>0.0</td>\n",
       "      <td>0.000000</td>\n",
       "      <td>0.0</td>\n",
       "      <td>0.249521</td>\n",
       "      <td>0.0</td>\n",
       "    </tr>\n",
       "    <tr>\n",
       "      <th>3</th>\n",
       "      <td>0</td>\n",
       "      <td>0</td>\n",
       "      <td>0</td>\n",
       "      <td>1</td>\n",
       "      <td>0.999084</td>\n",
       "      <td>0.120239</td>\n",
       "      <td>1.311000</td>\n",
       "      <td>1.311000</td>\n",
       "      <td>1.600200</td>\n",
       "      <td>0.164936</td>\n",
       "      <td>0</td>\n",
       "      <td>0</td>\n",
       "      <td>0.154535</td>\n",
       "      <td>0.017759</td>\n",
       "      <td>0.000000</td>\n",
       "      <td>0.0</td>\n",
       "      <td>0.006866</td>\n",
       "      <td>0.0</td>\n",
       "      <td>0.312355</td>\n",
       "      <td>0.0</td>\n",
       "    </tr>\n",
       "    <tr>\n",
       "      <th>4</th>\n",
       "      <td>0</td>\n",
       "      <td>0</td>\n",
       "      <td>0</td>\n",
       "      <td>1</td>\n",
       "      <td>0.999852</td>\n",
       "      <td>0.610131</td>\n",
       "      <td>1.755600</td>\n",
       "      <td>1.755600</td>\n",
       "      <td>2.259200</td>\n",
       "      <td>0.710561</td>\n",
       "      <td>0</td>\n",
       "      <td>0</td>\n",
       "      <td>0.000000</td>\n",
       "      <td>0.000000</td>\n",
       "      <td>0.000000</td>\n",
       "      <td>0.0</td>\n",
       "      <td>0.000000</td>\n",
       "      <td>0.0</td>\n",
       "      <td>0.095118</td>\n",
       "      <td>0.0</td>\n",
       "    </tr>\n",
       "    <tr>\n",
       "      <th>...</th>\n",
       "      <td>...</td>\n",
       "      <td>...</td>\n",
       "      <td>...</td>\n",
       "      <td>...</td>\n",
       "      <td>...</td>\n",
       "      <td>...</td>\n",
       "      <td>...</td>\n",
       "      <td>...</td>\n",
       "      <td>...</td>\n",
       "      <td>...</td>\n",
       "      <td>...</td>\n",
       "      <td>...</td>\n",
       "      <td>...</td>\n",
       "      <td>...</td>\n",
       "      <td>...</td>\n",
       "      <td>...</td>\n",
       "      <td>...</td>\n",
       "      <td>...</td>\n",
       "      <td>...</td>\n",
       "      <td>...</td>\n",
       "    </tr>\n",
       "    <tr>\n",
       "      <th>11441</th>\n",
       "      <td>1</td>\n",
       "      <td>0</td>\n",
       "      <td>0</td>\n",
       "      <td>0</td>\n",
       "      <td>0.999018</td>\n",
       "      <td>0.584063</td>\n",
       "      <td>1.688493</td>\n",
       "      <td>1.688493</td>\n",
       "      <td>2.284542</td>\n",
       "      <td>0.607868</td>\n",
       "      <td>0</td>\n",
       "      <td>0</td>\n",
       "      <td>0.000000</td>\n",
       "      <td>0.000000</td>\n",
       "      <td>0.000000</td>\n",
       "      <td>0.0</td>\n",
       "      <td>0.000000</td>\n",
       "      <td>0.0</td>\n",
       "      <td>0.005472</td>\n",
       "      <td>0.0</td>\n",
       "    </tr>\n",
       "    <tr>\n",
       "      <th>11442</th>\n",
       "      <td>0</td>\n",
       "      <td>1</td>\n",
       "      <td>0</td>\n",
       "      <td>0</td>\n",
       "      <td>0.999874</td>\n",
       "      <td>0.748288</td>\n",
       "      <td>1.562751</td>\n",
       "      <td>1.562751</td>\n",
       "      <td>2.185609</td>\n",
       "      <td>0.633521</td>\n",
       "      <td>0</td>\n",
       "      <td>0</td>\n",
       "      <td>0.004706</td>\n",
       "      <td>0.006055</td>\n",
       "      <td>0.005333</td>\n",
       "      <td>0.0</td>\n",
       "      <td>0.022638</td>\n",
       "      <td>0.0</td>\n",
       "      <td>0.097279</td>\n",
       "      <td>0.0</td>\n",
       "    </tr>\n",
       "    <tr>\n",
       "      <th>11443</th>\n",
       "      <td>1</td>\n",
       "      <td>0</td>\n",
       "      <td>0</td>\n",
       "      <td>0</td>\n",
       "      <td>0.999826</td>\n",
       "      <td>0.613948</td>\n",
       "      <td>1.687200</td>\n",
       "      <td>1.687200</td>\n",
       "      <td>2.249800</td>\n",
       "      <td>0.643964</td>\n",
       "      <td>0</td>\n",
       "      <td>0</td>\n",
       "      <td>0.000000</td>\n",
       "      <td>0.000000</td>\n",
       "      <td>0.000000</td>\n",
       "      <td>0.0</td>\n",
       "      <td>0.000000</td>\n",
       "      <td>0.0</td>\n",
       "      <td>0.007737</td>\n",
       "      <td>0.0</td>\n",
       "    </tr>\n",
       "    <tr>\n",
       "      <th>11444</th>\n",
       "      <td>0</td>\n",
       "      <td>0</td>\n",
       "      <td>0</td>\n",
       "      <td>0</td>\n",
       "      <td>0.999448</td>\n",
       "      <td>0.418996</td>\n",
       "      <td>1.532856</td>\n",
       "      <td>1.532856</td>\n",
       "      <td>2.126472</td>\n",
       "      <td>0.407581</td>\n",
       "      <td>0</td>\n",
       "      <td>0</td>\n",
       "      <td>0.002845</td>\n",
       "      <td>0.000000</td>\n",
       "      <td>0.000000</td>\n",
       "      <td>0.0</td>\n",
       "      <td>0.000000</td>\n",
       "      <td>0.0</td>\n",
       "      <td>0.020258</td>\n",
       "      <td>0.0</td>\n",
       "    </tr>\n",
       "    <tr>\n",
       "      <th>11445</th>\n",
       "      <td>0</td>\n",
       "      <td>0</td>\n",
       "      <td>0</td>\n",
       "      <td>1</td>\n",
       "      <td>0.999722</td>\n",
       "      <td>0.473266</td>\n",
       "      <td>1.556558</td>\n",
       "      <td>1.556558</td>\n",
       "      <td>2.121425</td>\n",
       "      <td>0.473877</td>\n",
       "      <td>0</td>\n",
       "      <td>0</td>\n",
       "      <td>0.002500</td>\n",
       "      <td>0.000000</td>\n",
       "      <td>0.000000</td>\n",
       "      <td>0.0</td>\n",
       "      <td>0.000000</td>\n",
       "      <td>0.0</td>\n",
       "      <td>0.147675</td>\n",
       "      <td>0.0</td>\n",
       "    </tr>\n",
       "  </tbody>\n",
       "</table>\n",
       "<p>11446 rows × 20 columns</p>\n",
       "</div>"
      ],
      "text/plain": [
       "       GRP1  GRP2  GRP3  GRP4  REGRESSION_R2     EC50Y  MEASURE_T0_BASE_VALUE  \\\n",
       "0         0     0     1     0       0.999823  0.644072               0.387600   \n",
       "1         0     0     1     0       0.999476  0.119769               1.288200   \n",
       "2         1     0     0     0       0.999880  0.443597               1.607400   \n",
       "3         0     0     0     1       0.999084  0.120239               1.311000   \n",
       "4         0     0     0     1       0.999852  0.610131               1.755600   \n",
       "...     ...   ...   ...   ...            ...       ...                    ...   \n",
       "11441     1     0     0     0       0.999018  0.584063               1.688493   \n",
       "11442     0     1     0     0       0.999874  0.748288               1.562751   \n",
       "11443     1     0     0     0       0.999826  0.613948               1.687200   \n",
       "11444     0     0     0     0       0.999448  0.418996               1.532856   \n",
       "11445     0     0     0     1       0.999722  0.473266               1.556558   \n",
       "\n",
       "       MENISCUS_LENGTH     EC50X  ESTIMATE_AUC  DRUG_DRY  DRUG_CONTROL  \\\n",
       "0             0.387600  0.477700      0.116910         1             0   \n",
       "1             1.288200  1.717000      0.143461         0             0   \n",
       "2             1.607400  2.093400      0.488588         0             0   \n",
       "3             1.311000  1.600200      0.164936         0             0   \n",
       "4             1.755600  2.259200      0.710561         0             0   \n",
       "...                ...       ...           ...       ...           ...   \n",
       "11441         1.688493  2.284542      0.607868         0             0   \n",
       "11442         1.562751  2.185609      0.633521         0             0   \n",
       "11443         1.687200  2.249800      0.643964         0             0   \n",
       "11444         1.532856  2.126472      0.407581         0             0   \n",
       "11445         1.556558  2.121425      0.473877         0             0   \n",
       "\n",
       "              0         1         2    3         4    5         6    7  \n",
       "0      0.000191  0.003963  0.002464  0.0  0.000000  0.0  0.229395  0.0  \n",
       "1      0.027013  0.000000  0.000000  0.0  0.027370  0.0  0.232266  0.0  \n",
       "2      0.011757  0.000000  0.001987  0.0  0.000000  0.0  0.249521  0.0  \n",
       "3      0.154535  0.017759  0.000000  0.0  0.006866  0.0  0.312355  0.0  \n",
       "4      0.000000  0.000000  0.000000  0.0  0.000000  0.0  0.095118  0.0  \n",
       "...         ...       ...       ...  ...       ...  ...       ...  ...  \n",
       "11441  0.000000  0.000000  0.000000  0.0  0.000000  0.0  0.005472  0.0  \n",
       "11442  0.004706  0.006055  0.005333  0.0  0.022638  0.0  0.097279  0.0  \n",
       "11443  0.000000  0.000000  0.000000  0.0  0.000000  0.0  0.007737  0.0  \n",
       "11444  0.002845  0.000000  0.000000  0.0  0.000000  0.0  0.020258  0.0  \n",
       "11445  0.002500  0.000000  0.000000  0.0  0.000000  0.0  0.147675  0.0  \n",
       "\n",
       "[11446 rows x 20 columns]"
      ]
     },
     "execution_count": 8,
     "metadata": {},
     "output_type": "execute_result"
    }
   ],
   "source": [
    "X_train.iloc[:, :20]"
   ]
  },
  {
   "cell_type": "markdown",
   "id": "eca68b29-c436-402b-91ba-1aebd59c9d84",
   "metadata": {},
   "source": [
    "_______\n",
    "\n",
    "\n",
    "# Classification Models"
   ]
  },
  {
   "cell_type": "markdown",
   "id": "d4be6d0f-5c7d-4f07-8f1b-daa5ea1a3571",
   "metadata": {},
   "source": [
    "## Baseline Model\n",
    "\n",
    "Since the class imbalance is roughy 10% for class 1 and 90% for class 2, we will use a All-positive baseline model which should have a approximate overall accuracy of 90%. "
   ]
  },
  {
   "cell_type": "code",
   "execution_count": 9,
   "id": "92b2a260-c016-4e0e-93ec-e9ebd9fa75e9",
   "metadata": {},
   "outputs": [],
   "source": [
    "# This will capture all model metrics\n",
    "all_metrics = pd.DataFrame()"
   ]
  },
  {
   "cell_type": "code",
   "execution_count": 10,
   "id": "d499dd30-da10-42d0-ab6a-3520dcfaf38b",
   "metadata": {},
   "outputs": [],
   "source": [
    "baseline_pred_train = [1] * len(y_train)\n",
    "baseline_pred_test = [1] * len(y_test)"
   ]
  },
  {
   "cell_type": "code",
   "execution_count": 11,
   "id": "fb5a61fd-f999-401b-be0b-9555ae4af0b6",
   "metadata": {},
   "outputs": [
    {
     "name": "stdout",
     "output_type": "stream",
     "text": [
      "Baseline Model: \t Test Set Accuracy = 0.91\n"
     ]
    }
   ],
   "source": [
    "print(\"Baseline Model: \\t Test Set Accuracy = %2.2f\" % accuracy_score(y_test, baseline_pred_test))"
   ]
  },
  {
   "cell_type": "code",
   "execution_count": 12,
   "id": "d08501fd-5c7d-4dd9-b33c-ec1a6029279d",
   "metadata": {},
   "outputs": [
    {
     "data": {
      "image/png": "[encoded data removed]",
      "text/plain": [
       "<Figure size 432x288 with 2 Axes>"
      ]
     },
     "metadata": {
      "needs_background": "light"
     },
     "output_type": "display_data"
    }
   ],
   "source": [
    "metrics.accuracy_score(y_test, baseline_pred_test)\n",
    "baseline_cfm = metrics.confusion_matrix(y_test, baseline_pred_test)\n",
    "sns.heatmap(baseline_cfm, annot=True, fmt='d')\n",
    "plt.title('Baseline Confusion Matrix - Test Data')\n",
    "plt.show()"
   ]
  },
  {
   "cell_type": "code",
   "execution_count": 13,
   "id": "83b6e624-37b1-47a6-8a8f-4f3b4a1ab8de",
   "metadata": {},
   "outputs": [
    {
     "data": {
      "text/html": [
       "<div>\n",
       "<style scoped>\n",
       "    .dataframe tbody tr th:only-of-type {\n",
       "        vertical-align: middle;\n",
       "    }\n",
       "\n",
       "    .dataframe tbody tr th {\n",
       "        vertical-align: top;\n",
       "    }\n",
       "\n",
       "    .dataframe thead th {\n",
       "        text-align: right;\n",
       "    }\n",
       "</style>\n",
       "<table border=\"1\" class=\"dataframe\">\n",
       "  <thead>\n",
       "    <tr style=\"text-align: right;\">\n",
       "      <th></th>\n",
       "      <th>precision</th>\n",
       "      <th>recall</th>\n",
       "      <th>f1-score</th>\n",
       "      <th>support</th>\n",
       "      <th>model</th>\n",
       "    </tr>\n",
       "  </thead>\n",
       "  <tbody>\n",
       "    <tr>\n",
       "      <th>0</th>\n",
       "      <td>0.000000</td>\n",
       "      <td>0.000000</td>\n",
       "      <td>0.000000</td>\n",
       "      <td>139.000000</td>\n",
       "      <td>Baseline Model</td>\n",
       "    </tr>\n",
       "    <tr>\n",
       "      <th>1</th>\n",
       "      <td>0.911352</td>\n",
       "      <td>1.000000</td>\n",
       "      <td>0.953620</td>\n",
       "      <td>1429.000000</td>\n",
       "      <td>Baseline Model</td>\n",
       "    </tr>\n",
       "    <tr>\n",
       "      <th>accuracy</th>\n",
       "      <td>0.911352</td>\n",
       "      <td>0.911352</td>\n",
       "      <td>0.911352</td>\n",
       "      <td>0.911352</td>\n",
       "      <td>Baseline Model</td>\n",
       "    </tr>\n",
       "    <tr>\n",
       "      <th>macro avg</th>\n",
       "      <td>0.455676</td>\n",
       "      <td>0.500000</td>\n",
       "      <td>0.476810</td>\n",
       "      <td>1568.000000</td>\n",
       "      <td>Baseline Model</td>\n",
       "    </tr>\n",
       "    <tr>\n",
       "      <th>weighted avg</th>\n",
       "      <td>0.830563</td>\n",
       "      <td>0.911352</td>\n",
       "      <td>0.869084</td>\n",
       "      <td>1568.000000</td>\n",
       "      <td>Baseline Model</td>\n",
       "    </tr>\n",
       "  </tbody>\n",
       "</table>\n",
       "</div>"
      ],
      "text/plain": [
       "              precision    recall  f1-score      support           model\n",
       "0              0.000000  0.000000  0.000000   139.000000  Baseline Model\n",
       "1              0.911352  1.000000  0.953620  1429.000000  Baseline Model\n",
       "accuracy       0.911352  0.911352  0.911352     0.911352  Baseline Model\n",
       "macro avg      0.455676  0.500000  0.476810  1568.000000  Baseline Model\n",
       "weighted avg   0.830563  0.911352  0.869084  1568.000000  Baseline Model"
      ]
     },
     "execution_count": 13,
     "metadata": {},
     "output_type": "execute_result"
    }
   ],
   "source": [
    "baseline_met = pd.DataFrame(metrics.classification_report(y_test, baseline_pred_test, output_dict=True)).transpose()\n",
    "baseline_met['model'] = 'Baseline Model'\n",
    "all_metrics = pd.concat([all_metrics, baseline_met.reset_index()], axis=0)\n",
    "\n",
    "baseline_met"
   ]
  },
  {
   "cell_type": "markdown",
   "id": "e80bcb59-50e2-4bb8-a43c-b149406e3818",
   "metadata": {},
   "source": [
    "_______\n",
    "\n",
    "\n",
    "## Logistic Regression"
   ]
  },
  {
   "cell_type": "code",
   "execution_count": 14,
   "id": "36c1da5c-0bfe-40ba-9976-dbe5a9b71e65",
   "metadata": {},
   "outputs": [
    {
     "name": "stdout",
     "output_type": "stream",
     "text": [
      "Cost = 0.01 \t Testing Accuracy = 0.83 \t     Training Accuracy = 0.87\n",
      "Cost = 0.10 \t Testing Accuracy = 0.87 \t     Training Accuracy = 0.92\n",
      "Cost = 0.20 \t Testing Accuracy = 0.88 \t     Training Accuracy = 0.94\n",
      "Cost = 0.50 \t Testing Accuracy = 0.89 \t     Training Accuracy = 0.95\n",
      "Cost = 0.80 \t Testing Accuracy = 0.90 \t     Training Accuracy = 0.96\n",
      "Cost = 1.00 \t Testing Accuracy = 0.90 \t     Training Accuracy = 0.96\n",
      "Cost = 5.00 \t Testing Accuracy = 0.90 \t     Training Accuracy = 0.98\n",
      "Cost = 10.00 \t Testing Accuracy = 0.90 \t     Training Accuracy = 0.99\n",
      "Cost = 20.00 \t Testing Accuracy = 0.91 \t     Training Accuracy = 0.99\n",
      "Cost = 50.00 \t Testing Accuracy = 0.91 \t     Training Accuracy = 0.99\n"
     ]
    },
    {
     "data": {
      "image/png": "[encoded data removed]",
      "text/plain": [
       "<Figure size 432x288 with 1 Axes>"
      ]
     },
     "metadata": {
      "needs_background": "light"
     },
     "output_type": "display_data"
    }
   ],
   "source": [
    "C = [0.01, 0.1, 0.2, 0.5, 0.8, 1, 5, 10, 20, 50]\n",
    "LRtrainAcc = []\n",
    "LRtestAcc = []\n",
    "\n",
    "for param in C:\n",
    "    tlr = linear_model.LogisticRegression(penalty='l2', \n",
    "                                          solver='lbfgs',\n",
    "                                          max_iter=2000,\n",
    "                                          C=param, random_state=42)\n",
    "    tlr.fit(X_train, y_train)\n",
    "    tlr_pred_train = tlr.predict(X_train)\n",
    "    tlr_pred_test = tlr.predict(X_test)\n",
    "    LRtrainAcc.append(accuracy_score(y_train, tlr_pred_train))\n",
    "    LRtestAcc.append(accuracy_score(y_test, tlr_pred_test))\n",
    "    print('Cost = %2.2f \\t Testing Accuracy = %2.2f \\t \\\n",
    "    Training Accuracy = %2.2f' % (param,accuracy_score(y_test,tlr_pred_test),\n",
    "                               accuracy_score(y_train,tlr_pred_train)))\n",
    "    \n",
    "fig, ax = plt.subplots()\n",
    "ax.plot(C, LRtrainAcc, 'ro-', C, LRtestAcc,'bv--')\n",
    "ax.legend(['Training Accuracy','Test Accuracy'])\n",
    "plt.title('Logistic Regression with Varying Costs - Accuracy vs. Cost')\n",
    "ax.set_xlabel('C')\n",
    "ax.set_xscale('log')\n",
    "ax.set_ylabel('Accuracy')\n",
    "plt.show()"
   ]
  },
  {
   "cell_type": "code",
   "execution_count": 15,
   "id": "29a0bbb1-e2a1-4e88-8b67-ea15f03d2ef9",
   "metadata": {},
   "outputs": [],
   "source": [
    "# Best hyperparameters\n",
    "tlr = linear_model.LogisticRegression(penalty='l2', \n",
    "                                      solver='lbfgs',\n",
    "                                      max_iter=2000,\n",
    "                                      C=20, random_state=42)\n",
    "tlr.fit(X_train, y_train)\n",
    "tlr_pred_test = tlr.predict(X_test)\n",
    "tlr_pred_testp = tlr.predict_proba(X_test)"
   ]
  },
  {
   "cell_type": "code",
   "execution_count": 16,
   "id": "9dcd62e1-5dd6-4ef2-be81-3f8601003f64",
   "metadata": {},
   "outputs": [
    {
     "data": {
      "image/png": "[encoded data removed]",
      "text/plain": [
       "<Figure size 432x288 with 2 Axes>"
      ]
     },
     "metadata": {
      "needs_background": "light"
     },
     "output_type": "display_data"
    }
   ],
   "source": [
    "metrics.accuracy_score(y_test, tlr_pred_test)\n",
    "tlr_cfm = metrics.confusion_matrix(y_test, tlr_pred_test)\n",
    "sns.heatmap(tlr_cfm, annot=True, fmt='d')\n",
    "plt.title('Tuned Logistic Regression Confusion Matrix - Test Data')\n",
    "plt.show()"
   ]
  },
  {
   "cell_type": "code",
   "execution_count": 17,
   "id": "de6e00cb-e3ad-43a1-ab51-dfb96ec2d1c4",
   "metadata": {},
   "outputs": [
    {
     "data": {
      "text/html": [
       "<div>\n",
       "<style scoped>\n",
       "    .dataframe tbody tr th:only-of-type {\n",
       "        vertical-align: middle;\n",
       "    }\n",
       "\n",
       "    .dataframe tbody tr th {\n",
       "        vertical-align: top;\n",
       "    }\n",
       "\n",
       "    .dataframe thead th {\n",
       "        text-align: right;\n",
       "    }\n",
       "</style>\n",
       "<table border=\"1\" class=\"dataframe\">\n",
       "  <thead>\n",
       "    <tr style=\"text-align: right;\">\n",
       "      <th></th>\n",
       "      <th>precision</th>\n",
       "      <th>recall</th>\n",
       "      <th>f1-score</th>\n",
       "      <th>support</th>\n",
       "      <th>model</th>\n",
       "    </tr>\n",
       "  </thead>\n",
       "  <tbody>\n",
       "    <tr>\n",
       "      <th>0</th>\n",
       "      <td>0.491429</td>\n",
       "      <td>0.618705</td>\n",
       "      <td>0.547771</td>\n",
       "      <td>139.000000</td>\n",
       "      <td>Logistic Regression</td>\n",
       "    </tr>\n",
       "    <tr>\n",
       "      <th>1</th>\n",
       "      <td>0.961953</td>\n",
       "      <td>0.937719</td>\n",
       "      <td>0.949681</td>\n",
       "      <td>1429.000000</td>\n",
       "      <td>Logistic Regression</td>\n",
       "    </tr>\n",
       "    <tr>\n",
       "      <th>accuracy</th>\n",
       "      <td>0.909439</td>\n",
       "      <td>0.909439</td>\n",
       "      <td>0.909439</td>\n",
       "      <td>0.909439</td>\n",
       "      <td>Logistic Regression</td>\n",
       "    </tr>\n",
       "    <tr>\n",
       "      <th>macro avg</th>\n",
       "      <td>0.726691</td>\n",
       "      <td>0.778212</td>\n",
       "      <td>0.748726</td>\n",
       "      <td>1568.000000</td>\n",
       "      <td>Logistic Regression</td>\n",
       "    </tr>\n",
       "    <tr>\n",
       "      <th>weighted avg</th>\n",
       "      <td>0.920242</td>\n",
       "      <td>0.909439</td>\n",
       "      <td>0.914053</td>\n",
       "      <td>1568.000000</td>\n",
       "      <td>Logistic Regression</td>\n",
       "    </tr>\n",
       "  </tbody>\n",
       "</table>\n",
       "</div>"
      ],
      "text/plain": [
       "              precision    recall  f1-score      support                model\n",
       "0              0.491429  0.618705  0.547771   139.000000  Logistic Regression\n",
       "1              0.961953  0.937719  0.949681  1429.000000  Logistic Regression\n",
       "accuracy       0.909439  0.909439  0.909439     0.909439  Logistic Regression\n",
       "macro avg      0.726691  0.778212  0.748726  1568.000000  Logistic Regression\n",
       "weighted avg   0.920242  0.909439  0.914053  1568.000000  Logistic Regression"
      ]
     },
     "execution_count": 17,
     "metadata": {},
     "output_type": "execute_result"
    }
   ],
   "source": [
    "tlr_met = pd.DataFrame(metrics.classification_report(y_test, tlr_pred_test, \n",
    "                                                          output_dict=True)).transpose()\n",
    "tlr_met['model'] = 'Logistic Regression'\n",
    "all_metrics = pd.concat([all_metrics, tlr_met.reset_index()], axis=0)\n",
    "tlr_met"
   ]
  },
  {
   "cell_type": "markdown",
   "id": "fa485f47-1ae8-4286-85c8-8a17ee4563d0",
   "metadata": {},
   "source": [
    "### Logistic Regression - Threshold Tuning"
   ]
  },
  {
   "cell_type": "code",
   "execution_count": 18,
   "id": "8ba5a7c7-1596-4e91-877d-5fc2314cc41c",
   "metadata": {},
   "outputs": [
    {
     "data": {
      "image/png": "[encoded data removed]",
      "text/plain": [
       "<Figure size 432x288 with 1 Axes>"
      ]
     },
     "metadata": {
      "needs_background": "light"
     },
     "output_type": "display_data"
    },
    {
     "name": "stdout",
     "output_type": "stream",
     "text": [
      "Optimal Threshold 0.908043\n"
     ]
    }
   ],
   "source": [
    "# Optimal Model predictions\n",
    "tlr_pred = tlr_pred_testp[:, 1]\n",
    "\n",
    "tlr_roc = metrics.roc_curve(y_test, tlr_pred)\n",
    "tlr_auc = metrics.auc(tlr_roc[0], tlr_roc[1])\n",
    "tlr_plot = metrics.RocCurveDisplay(fpr=tlr_roc[0], tpr=tlr_roc[1], \n",
    "                                   roc_auc=tlr_auc, estimator_name='Logistic Regression')\n",
    "\n",
    "fig, ax = plt.subplots()\n",
    "fig.suptitle('ROC Curve - Logistic Regression')\n",
    "plt.plot([0, 1], [0, 1], linestyle = '--', color = '#174ab0')\n",
    "tlr_plot.plot(ax)\n",
    "plt.show()\n",
    "\n",
    "# Optimal Threshold value\n",
    "tlr_opt = tlr_roc[2][np.argmax(tlr_roc[1] - tlr_roc[0])]\n",
    "\n",
    "print('Optimal Threshold %f' % tlr_opt)"
   ]
  },
  {
   "cell_type": "code",
   "execution_count": 19,
   "id": "1c52cd77-074e-4f95-90a8-1f0dd45d5f4f",
   "metadata": {},
   "outputs": [
    {
     "data": {
      "image/png": "[encoded data removed]",
      "text/plain": [
       "<Figure size 432x288 with 2 Axes>"
      ]
     },
     "metadata": {
      "needs_background": "light"
     },
     "output_type": "display_data"
    }
   ],
   "source": [
    "tlr_cfm = metrics.confusion_matrix(y_test, (tlr_pred >= tlr_opt).astype(int))\n",
    "sns.heatmap(tlr_cfm, annot=True, fmt='g')\n",
    "plt.title('Logistic Regression using Optimal Threshold')\n",
    "plt.show()"
   ]
  },
  {
   "cell_type": "code",
   "execution_count": 20,
   "id": "070de4bf-d793-4eff-a639-a0cceb2524c5",
   "metadata": {},
   "outputs": [
    {
     "data": {
      "text/html": [
       "<div>\n",
       "<style scoped>\n",
       "    .dataframe tbody tr th:only-of-type {\n",
       "        vertical-align: middle;\n",
       "    }\n",
       "\n",
       "    .dataframe tbody tr th {\n",
       "        vertical-align: top;\n",
       "    }\n",
       "\n",
       "    .dataframe thead th {\n",
       "        text-align: right;\n",
       "    }\n",
       "</style>\n",
       "<table border=\"1\" class=\"dataframe\">\n",
       "  <thead>\n",
       "    <tr style=\"text-align: right;\">\n",
       "      <th></th>\n",
       "      <th>precision</th>\n",
       "      <th>recall</th>\n",
       "      <th>f1-score</th>\n",
       "      <th>support</th>\n",
       "    </tr>\n",
       "  </thead>\n",
       "  <tbody>\n",
       "    <tr>\n",
       "      <th>0</th>\n",
       "      <td>0.352751</td>\n",
       "      <td>0.784173</td>\n",
       "      <td>0.486607</td>\n",
       "      <td>139.000000</td>\n",
       "    </tr>\n",
       "    <tr>\n",
       "      <th>1</th>\n",
       "      <td>0.976172</td>\n",
       "      <td>0.860042</td>\n",
       "      <td>0.914435</td>\n",
       "      <td>1429.000000</td>\n",
       "    </tr>\n",
       "    <tr>\n",
       "      <th>accuracy</th>\n",
       "      <td>0.853316</td>\n",
       "      <td>0.853316</td>\n",
       "      <td>0.853316</td>\n",
       "      <td>0.853316</td>\n",
       "    </tr>\n",
       "    <tr>\n",
       "      <th>macro avg</th>\n",
       "      <td>0.664461</td>\n",
       "      <td>0.822107</td>\n",
       "      <td>0.700521</td>\n",
       "      <td>1568.000000</td>\n",
       "    </tr>\n",
       "    <tr>\n",
       "      <th>weighted avg</th>\n",
       "      <td>0.920907</td>\n",
       "      <td>0.853316</td>\n",
       "      <td>0.876508</td>\n",
       "      <td>1568.000000</td>\n",
       "    </tr>\n",
       "  </tbody>\n",
       "</table>\n",
       "</div>"
      ],
      "text/plain": [
       "              precision    recall  f1-score      support\n",
       "0              0.352751  0.784173  0.486607   139.000000\n",
       "1              0.976172  0.860042  0.914435  1429.000000\n",
       "accuracy       0.853316  0.853316  0.853316     0.853316\n",
       "macro avg      0.664461  0.822107  0.700521  1568.000000\n",
       "weighted avg   0.920907  0.853316  0.876508  1568.000000"
      ]
     },
     "execution_count": 20,
     "metadata": {},
     "output_type": "execute_result"
    }
   ],
   "source": [
    "pd.DataFrame(metrics.classification_report(y_test, \n",
    "                                           (tlr_pred >= tlr_opt).astype(int), \n",
    "                                           output_dict=True)).transpose()"
   ]
  },
  {
   "cell_type": "markdown",
   "id": "c0d9fa57-ac44-4aa7-91f4-a51d2b2e2053",
   "metadata": {},
   "source": [
    "\n",
    "\n",
    "_______\n",
    " \n",
    "## Support Vector Machines"
   ]
  },
  {
   "cell_type": "code",
   "execution_count": 21,
   "id": "3b13c245-9cd7-4a6b-87ab-837bb3a38178",
   "metadata": {},
   "outputs": [
    {
     "name": "stdout",
     "output_type": "stream",
     "text": [
      "Cost = 0.01 \t Testing Accuracy = 0.48 \t     Training Accuracy = 0.61\n",
      "Cost = 0.10 \t Testing Accuracy = 0.74 \t     Training Accuracy = 0.72\n",
      "Cost = 0.20 \t Testing Accuracy = 0.76 \t     Training Accuracy = 0.76\n",
      "Cost = 0.50 \t Testing Accuracy = 0.78 \t     Training Accuracy = 0.79\n",
      "Cost = 0.80 \t Testing Accuracy = 0.79 \t     Training Accuracy = 0.81\n",
      "Cost = 1.00 \t Testing Accuracy = 0.80 \t     Training Accuracy = 0.82\n",
      "Cost = 5.00 \t Testing Accuracy = 0.84 \t     Training Accuracy = 0.89\n",
      "Cost = 10.00 \t Testing Accuracy = 0.86 \t     Training Accuracy = 0.91\n",
      "Cost = 20.00 \t Testing Accuracy = 0.88 \t     Training Accuracy = 0.93\n",
      "Cost = 50.00 \t Testing Accuracy = 0.90 \t     Training Accuracy = 0.95\n"
     ]
    },
    {
     "data": {
      "image/png": "[encoded data removed]",
      "text/plain": [
       "<Figure size 432x288 with 1 Axes>"
      ]
     },
     "metadata": {
      "needs_background": "light"
     },
     "output_type": "display_data"
    }
   ],
   "source": [
    "C = [0.01, 0.1, 0.2, 0.5, 0.8, 1, 5, 10, 20, 50]\n",
    "svm_trainAcc = []\n",
    "svm_testAcc = []\n",
    "\n",
    "for param in C:\n",
    "    svm = SVC(C=param,kernel='rbf', gamma = 'auto', random_state=42)\n",
    "    svm.fit(X_train, y_train)\n",
    "    svm_pred_train = svm.predict(X_train)\n",
    "    svm_pred_test = svm.predict(X_test)\n",
    "    svm_trainAcc.append(accuracy_score(y_train, svm_pred_train))\n",
    "    svm_testAcc.append(accuracy_score(y_test, svm_pred_test))\n",
    "    print('Cost = %2.2f \\t Testing Accuracy = %2.2f \\t \\\n",
    "    Training Accuracy = %2.2f'% (param,accuracy_score(y_test,svm_pred_test),\n",
    "                               accuracy_score(y_train,svm_pred_train)))    \n",
    "\n",
    "fig, ax = plt.subplots()\n",
    "ax.plot(C, svm_trainAcc, 'ro-', C, svm_testAcc,'bv--')\n",
    "ax.legend(['Training Accuracy','Test Accuracy'])\n",
    "plt.title('SVM with Varying Costs - Accuracy vs. Cost')\n",
    "ax.set_xlabel('C')\n",
    "ax.set_xscale('log')\n",
    "ax.set_ylabel('Accuracy')\n",
    "plt.show()"
   ]
  },
  {
   "cell_type": "code",
   "execution_count": 22,
   "id": "69f62007-0507-49bf-9d2b-c81985cffae6",
   "metadata": {},
   "outputs": [],
   "source": [
    "# Best hyperparameters\n",
    "svm = SVC(C=50, kernel='rbf', gamma = 'auto', random_state=42, probability=True)\n",
    "svm.fit(X_train, y_train)\n",
    "svm_pred_test = svm.predict_proba(X_test)"
   ]
  },
  {
   "cell_type": "code",
   "execution_count": 23,
   "id": "b238ae72-e1a1-4a23-a593-b05256a082ce",
   "metadata": {},
   "outputs": [
    {
     "data": {
      "image/png": "[encoded data removed]",
      "text/plain": [
       "<Figure size 432x288 with 2 Axes>"
      ]
     },
     "metadata": {
      "needs_background": "light"
     },
     "output_type": "display_data"
    }
   ],
   "source": [
    "# Predicted Classes\n",
    "svm_pred = (svm_pred_test[:, 1] >= 0.5).astype(int)\n",
    "\n",
    "metrics.accuracy_score(y_test, svm_pred)\n",
    "svm_cfm = metrics.confusion_matrix(y_test, svm_pred)\n",
    "sns.heatmap(svm_cfm, annot=True, fmt='d')\n",
    "plt.title('SVM Confusion Matrix - Test Data')\n",
    "plt.show()"
   ]
  },
  {
   "cell_type": "code",
   "execution_count": 24,
   "id": "131b4a00-291f-49e1-8dca-b052130dda68",
   "metadata": {},
   "outputs": [
    {
     "data": {
      "text/html": [
       "<div>\n",
       "<style scoped>\n",
       "    .dataframe tbody tr th:only-of-type {\n",
       "        vertical-align: middle;\n",
       "    }\n",
       "\n",
       "    .dataframe tbody tr th {\n",
       "        vertical-align: top;\n",
       "    }\n",
       "\n",
       "    .dataframe thead th {\n",
       "        text-align: right;\n",
       "    }\n",
       "</style>\n",
       "<table border=\"1\" class=\"dataframe\">\n",
       "  <thead>\n",
       "    <tr style=\"text-align: right;\">\n",
       "      <th></th>\n",
       "      <th>precision</th>\n",
       "      <th>recall</th>\n",
       "      <th>f1-score</th>\n",
       "      <th>support</th>\n",
       "      <th>model</th>\n",
       "    </tr>\n",
       "  </thead>\n",
       "  <tbody>\n",
       "    <tr>\n",
       "      <th>0</th>\n",
       "      <td>0.520619</td>\n",
       "      <td>0.726619</td>\n",
       "      <td>0.606607</td>\n",
       "      <td>139.000000</td>\n",
       "      <td>SVM</td>\n",
       "    </tr>\n",
       "    <tr>\n",
       "      <th>1</th>\n",
       "      <td>0.972344</td>\n",
       "      <td>0.934920</td>\n",
       "      <td>0.953264</td>\n",
       "      <td>1429.000000</td>\n",
       "      <td>SVM</td>\n",
       "    </tr>\n",
       "    <tr>\n",
       "      <th>accuracy</th>\n",
       "      <td>0.916454</td>\n",
       "      <td>0.916454</td>\n",
       "      <td>0.916454</td>\n",
       "      <td>0.916454</td>\n",
       "      <td>SVM</td>\n",
       "    </tr>\n",
       "    <tr>\n",
       "      <th>macro avg</th>\n",
       "      <td>0.746481</td>\n",
       "      <td>0.830769</td>\n",
       "      <td>0.779935</td>\n",
       "      <td>1568.000000</td>\n",
       "      <td>SVM</td>\n",
       "    </tr>\n",
       "    <tr>\n",
       "      <th>weighted avg</th>\n",
       "      <td>0.932299</td>\n",
       "      <td>0.916454</td>\n",
       "      <td>0.922534</td>\n",
       "      <td>1568.000000</td>\n",
       "      <td>SVM</td>\n",
       "    </tr>\n",
       "  </tbody>\n",
       "</table>\n",
       "</div>"
      ],
      "text/plain": [
       "              precision    recall  f1-score      support model\n",
       "0              0.520619  0.726619  0.606607   139.000000   SVM\n",
       "1              0.972344  0.934920  0.953264  1429.000000   SVM\n",
       "accuracy       0.916454  0.916454  0.916454     0.916454   SVM\n",
       "macro avg      0.746481  0.830769  0.779935  1568.000000   SVM\n",
       "weighted avg   0.932299  0.916454  0.922534  1568.000000   SVM"
      ]
     },
     "execution_count": 24,
     "metadata": {},
     "output_type": "execute_result"
    }
   ],
   "source": [
    "svm_met = pd.DataFrame(metrics.classification_report(y_test, svm_pred, \n",
    "                                                     output_dict=True)).transpose()\n",
    "svm_met['model'] = 'SVM'\n",
    "all_metrics = pd.concat([all_metrics, svm_met.reset_index()], axis=0)\n",
    "svm_met"
   ]
  },
  {
   "cell_type": "markdown",
   "id": "ab439c73-a122-4fac-af93-ba39a99e4201",
   "metadata": {},
   "source": [
    "### SVM - Threshold Tuning"
   ]
  },
  {
   "cell_type": "code",
   "execution_count": 25,
   "id": "8668d820-d0b4-49f5-8d31-7ce1f3ae0bce",
   "metadata": {},
   "outputs": [
    {
     "data": {
      "image/png": "[encoded data removed]",
      "text/plain": [
       "<Figure size 432x288 with 1 Axes>"
      ]
     },
     "metadata": {
      "needs_background": "light"
     },
     "output_type": "display_data"
    },
    {
     "name": "stdout",
     "output_type": "stream",
     "text": [
      "Optimal Threshold 0.588288\n"
     ]
    }
   ],
   "source": [
    "# Optimal Model predictions\n",
    "svm_roc = metrics.roc_curve(y_test, svm_pred_test[:, 1])\n",
    "svm_auc = metrics.auc(svm_roc[0], svm_roc[1])\n",
    "svm_plot = metrics.RocCurveDisplay(fpr=svm_roc[0], tpr=svm_roc[1], \n",
    "                                   roc_auc=svm_auc, estimator_name='Support Vector Machines')\n",
    "\n",
    "fig, ax = plt.subplots()\n",
    "fig.suptitle('ROC Curve - Support Vector Machines')\n",
    "plt.plot([0, 1], [0, 1], linestyle = '--', color = '#174ab0')\n",
    "svm_plot.plot(ax)\n",
    "plt.show()\n",
    "\n",
    "# Optimal Threshold value\n",
    "svm_opt = svm_roc[2][np.argmax(svm_roc[1] - svm_roc[0])]\n",
    "\n",
    "print('Optimal Threshold %f' % svm_opt)"
   ]
  },
  {
   "cell_type": "code",
   "execution_count": 26,
   "id": "8589adc0-1540-44cd-a47b-12c433fbc196",
   "metadata": {},
   "outputs": [
    {
     "data": {
      "image/png": "[encoded data removed]",
      "text/plain": [
       "<Figure size 432x288 with 2 Axes>"
      ]
     },
     "metadata": {
      "needs_background": "light"
     },
     "output_type": "display_data"
    }
   ],
   "source": [
    "svm_cfm = metrics.confusion_matrix(y_test, (svm_pred_test[:, 1] >= svm_opt).astype(int))\n",
    "sns.heatmap(svm_cfm, annot=True, fmt='g')\n",
    "plt.title('SVM using Optimal Threshold')\n",
    "plt.show()"
   ]
  },
  {
   "cell_type": "code",
   "execution_count": 27,
   "id": "41ad5373-d4ba-48e9-a421-39d21b01e069",
   "metadata": {},
   "outputs": [
    {
     "data": {
      "text/html": [
       "<div>\n",
       "<style scoped>\n",
       "    .dataframe tbody tr th:only-of-type {\n",
       "        vertical-align: middle;\n",
       "    }\n",
       "\n",
       "    .dataframe tbody tr th {\n",
       "        vertical-align: top;\n",
       "    }\n",
       "\n",
       "    .dataframe thead th {\n",
       "        text-align: right;\n",
       "    }\n",
       "</style>\n",
       "<table border=\"1\" class=\"dataframe\">\n",
       "  <thead>\n",
       "    <tr style=\"text-align: right;\">\n",
       "      <th></th>\n",
       "      <th>precision</th>\n",
       "      <th>recall</th>\n",
       "      <th>f1-score</th>\n",
       "      <th>support</th>\n",
       "    </tr>\n",
       "  </thead>\n",
       "  <tbody>\n",
       "    <tr>\n",
       "      <th>0</th>\n",
       "      <td>0.473684</td>\n",
       "      <td>0.776978</td>\n",
       "      <td>0.588556</td>\n",
       "      <td>139.000000</td>\n",
       "    </tr>\n",
       "    <tr>\n",
       "      <th>1</th>\n",
       "      <td>0.976866</td>\n",
       "      <td>0.916025</td>\n",
       "      <td>0.945468</td>\n",
       "      <td>1429.000000</td>\n",
       "    </tr>\n",
       "    <tr>\n",
       "      <th>accuracy</th>\n",
       "      <td>0.903699</td>\n",
       "      <td>0.903699</td>\n",
       "      <td>0.903699</td>\n",
       "      <td>0.903699</td>\n",
       "    </tr>\n",
       "    <tr>\n",
       "      <th>macro avg</th>\n",
       "      <td>0.725275</td>\n",
       "      <td>0.846502</td>\n",
       "      <td>0.767012</td>\n",
       "      <td>1568.000000</td>\n",
       "    </tr>\n",
       "    <tr>\n",
       "      <th>weighted avg</th>\n",
       "      <td>0.932260</td>\n",
       "      <td>0.903699</td>\n",
       "      <td>0.913828</td>\n",
       "      <td>1568.000000</td>\n",
       "    </tr>\n",
       "  </tbody>\n",
       "</table>\n",
       "</div>"
      ],
      "text/plain": [
       "              precision    recall  f1-score      support\n",
       "0              0.473684  0.776978  0.588556   139.000000\n",
       "1              0.976866  0.916025  0.945468  1429.000000\n",
       "accuracy       0.903699  0.903699  0.903699     0.903699\n",
       "macro avg      0.725275  0.846502  0.767012  1568.000000\n",
       "weighted avg   0.932260  0.903699  0.913828  1568.000000"
      ]
     },
     "execution_count": 27,
     "metadata": {},
     "output_type": "execute_result"
    }
   ],
   "source": [
    "pd.DataFrame(metrics.classification_report(y_test, \n",
    "                                           (svm_pred_test[:, 1] >= svm_opt).astype(int), \n",
    "                                           output_dict=True)).transpose()"
   ]
  },
  {
   "cell_type": "markdown",
   "id": "e3a8fe74-1f2a-4092-a152-5561f314379c",
   "metadata": {},
   "source": [
    "\n",
    "_________\n",
    "\n",
    "## Linear Discriminant Analysis\n",
    "\n",
    "No hyperparameter tuning for LDA"
   ]
  },
  {
   "cell_type": "code",
   "execution_count": 28,
   "id": "a029e5dc-3f78-48b3-8b73-da99fdd1340a",
   "metadata": {},
   "outputs": [
    {
     "name": "stdout",
     "output_type": "stream",
     "text": [
      "LDA 5-fold Cross Validation Average 0.926175\n"
     ]
    }
   ],
   "source": [
    "lda_model = LinearDiscriminantAnalysis().fit(X_train, y_train)\n",
    "lda_cv = cross_val_score(lda_model, X_train, y_train)\n",
    "\n",
    "print('LDA 5-fold Cross Validation Average %f' % lda_cv.mean())"
   ]
  },
  {
   "cell_type": "code",
   "execution_count": 29,
   "id": "586924c4-4b33-4cb3-851b-3975a93c6dc7",
   "metadata": {},
   "outputs": [
    {
     "data": {
      "image/png": "[encoded data removed]",
      "text/plain": [
       "<Figure size 432x288 with 2 Axes>"
      ]
     },
     "metadata": {
      "needs_background": "light"
     },
     "output_type": "display_data"
    }
   ],
   "source": [
    "lda_pred_test = lda_model.predict_proba(X_test)\n",
    "\n",
    "# Predicted Classes\n",
    "lda_pred = (lda_pred_test[:, 1] >= 0.5).astype(int)\n",
    "\n",
    "metrics.accuracy_score(y_test, lda_pred)\n",
    "lda_cfm = metrics.confusion_matrix(y_test, lda_pred)\n",
    "sns.heatmap(lda_cfm, annot=True, fmt='d')\n",
    "plt.title('LDA Confusion Matrix - Test Data')\n",
    "plt.show()"
   ]
  },
  {
   "cell_type": "code",
   "execution_count": 30,
   "id": "1f206ce7-fb34-4f81-ba6d-b578f83beb84",
   "metadata": {},
   "outputs": [
    {
     "data": {
      "text/html": [
       "<div>\n",
       "<style scoped>\n",
       "    .dataframe tbody tr th:only-of-type {\n",
       "        vertical-align: middle;\n",
       "    }\n",
       "\n",
       "    .dataframe tbody tr th {\n",
       "        vertical-align: top;\n",
       "    }\n",
       "\n",
       "    .dataframe thead th {\n",
       "        text-align: right;\n",
       "    }\n",
       "</style>\n",
       "<table border=\"1\" class=\"dataframe\">\n",
       "  <thead>\n",
       "    <tr style=\"text-align: right;\">\n",
       "      <th></th>\n",
       "      <th>precision</th>\n",
       "      <th>recall</th>\n",
       "      <th>f1-score</th>\n",
       "      <th>support</th>\n",
       "      <th>model</th>\n",
       "    </tr>\n",
       "  </thead>\n",
       "  <tbody>\n",
       "    <tr>\n",
       "      <th>0</th>\n",
       "      <td>0.369565</td>\n",
       "      <td>0.733813</td>\n",
       "      <td>0.491566</td>\n",
       "      <td>139.000000</td>\n",
       "      <td>LDA</td>\n",
       "    </tr>\n",
       "    <tr>\n",
       "      <th>1</th>\n",
       "      <td>0.971362</td>\n",
       "      <td>0.878237</td>\n",
       "      <td>0.922455</td>\n",
       "      <td>1429.000000</td>\n",
       "      <td>LDA</td>\n",
       "    </tr>\n",
       "    <tr>\n",
       "      <th>accuracy</th>\n",
       "      <td>0.865434</td>\n",
       "      <td>0.865434</td>\n",
       "      <td>0.865434</td>\n",
       "      <td>0.865434</td>\n",
       "      <td>LDA</td>\n",
       "    </tr>\n",
       "    <tr>\n",
       "      <th>macro avg</th>\n",
       "      <td>0.670464</td>\n",
       "      <td>0.806025</td>\n",
       "      <td>0.707011</td>\n",
       "      <td>1568.000000</td>\n",
       "      <td>LDA</td>\n",
       "    </tr>\n",
       "    <tr>\n",
       "      <th>weighted avg</th>\n",
       "      <td>0.918014</td>\n",
       "      <td>0.865434</td>\n",
       "      <td>0.884258</td>\n",
       "      <td>1568.000000</td>\n",
       "      <td>LDA</td>\n",
       "    </tr>\n",
       "  </tbody>\n",
       "</table>\n",
       "</div>"
      ],
      "text/plain": [
       "              precision    recall  f1-score      support model\n",
       "0              0.369565  0.733813  0.491566   139.000000   LDA\n",
       "1              0.971362  0.878237  0.922455  1429.000000   LDA\n",
       "accuracy       0.865434  0.865434  0.865434     0.865434   LDA\n",
       "macro avg      0.670464  0.806025  0.707011  1568.000000   LDA\n",
       "weighted avg   0.918014  0.865434  0.884258  1568.000000   LDA"
      ]
     },
     "execution_count": 30,
     "metadata": {},
     "output_type": "execute_result"
    }
   ],
   "source": [
    "lda_met = pd.DataFrame(metrics.classification_report(y_test, lda_pred, \n",
    "                                                     output_dict=True)).transpose()\n",
    "lda_met['model'] = 'LDA'\n",
    "all_metrics = pd.concat([all_metrics, lda_met.reset_index()], axis=0)\n",
    "lda_met"
   ]
  },
  {
   "cell_type": "markdown",
   "id": "7b2a387f-2987-45de-8623-6f3ecbf863d1",
   "metadata": {},
   "source": [
    "### LDA - Threshold Tuning"
   ]
  },
  {
   "cell_type": "code",
   "execution_count": 31,
   "id": "7a4f136d-8d17-4d92-9d81-af16d912253c",
   "metadata": {},
   "outputs": [
    {
     "data": {
      "image/png": "[encoded data removed]",
      "text/plain": [
       "<Figure size 432x288 with 1 Axes>"
      ]
     },
     "metadata": {
      "needs_background": "light"
     },
     "output_type": "display_data"
    },
    {
     "name": "stdout",
     "output_type": "stream",
     "text": [
      "Optimal Threshold 0.665024\n"
     ]
    }
   ],
   "source": [
    "lda_roc = metrics.roc_curve(y_test, lda_pred_test[:, 1])\n",
    "lda_auc = metrics.auc(lda_roc[0], lda_roc[1])\n",
    "lda_plot = metrics.RocCurveDisplay(fpr=lda_roc[0], tpr=lda_roc[1], \n",
    "roc_auc=lda_auc, estimator_name='Linear Discriminant Analysis')\n",
    "\n",
    "fig, ax = plt.subplots()\n",
    "fig.suptitle('ROC Curve - LDA')\n",
    "plt.plot([0, 1], [0, 1], linestyle = '--', color = '#174ab0')\n",
    "lda_plot.plot(ax)\n",
    "plt.show()\n",
    "\n",
    "# Optimal Threshold value\n",
    "lda_opt = lda_roc[2][np.argmax(lda_roc[1] - lda_roc[0])]\n",
    "\n",
    "print('Optimal Threshold %f' % lda_opt)"
   ]
  },
  {
   "cell_type": "code",
   "execution_count": 32,
   "id": "f77a9477-2147-4226-988a-3d593eeeffc1",
   "metadata": {},
   "outputs": [
    {
     "data": {
      "image/png": "[encoded data removed]",
      "text/plain": [
       "<Figure size 432x288 with 2 Axes>"
      ]
     },
     "metadata": {
      "needs_background": "light"
     },
     "output_type": "display_data"
    }
   ],
   "source": [
    "lda_cfm = metrics.confusion_matrix(y_test, (lda_pred_test[:, 1] >= lda_opt).astype(int))\n",
    "sns.heatmap(lda_cfm, annot=True, fmt='g')\n",
    "plt.title('LDA using Optimal Threshold')\n",
    "plt.show()"
   ]
  },
  {
   "cell_type": "code",
   "execution_count": 33,
   "id": "2e6f1a5d-7850-4748-ae62-06e13c0e63c7",
   "metadata": {},
   "outputs": [
    {
     "data": {
      "text/html": [
       "<div>\n",
       "<style scoped>\n",
       "    .dataframe tbody tr th:only-of-type {\n",
       "        vertical-align: middle;\n",
       "    }\n",
       "\n",
       "    .dataframe tbody tr th {\n",
       "        vertical-align: top;\n",
       "    }\n",
       "\n",
       "    .dataframe thead th {\n",
       "        text-align: right;\n",
       "    }\n",
       "</style>\n",
       "<table border=\"1\" class=\"dataframe\">\n",
       "  <thead>\n",
       "    <tr style=\"text-align: right;\">\n",
       "      <th></th>\n",
       "      <th>precision</th>\n",
       "      <th>recall</th>\n",
       "      <th>f1-score</th>\n",
       "      <th>support</th>\n",
       "    </tr>\n",
       "  </thead>\n",
       "  <tbody>\n",
       "    <tr>\n",
       "      <th>0</th>\n",
       "      <td>0.351613</td>\n",
       "      <td>0.784173</td>\n",
       "      <td>0.485523</td>\n",
       "      <td>139.000000</td>\n",
       "    </tr>\n",
       "    <tr>\n",
       "      <th>1</th>\n",
       "      <td>0.976153</td>\n",
       "      <td>0.859342</td>\n",
       "      <td>0.914031</td>\n",
       "      <td>1429.000000</td>\n",
       "    </tr>\n",
       "    <tr>\n",
       "      <th>accuracy</th>\n",
       "      <td>0.852679</td>\n",
       "      <td>0.852679</td>\n",
       "      <td>0.852679</td>\n",
       "      <td>0.852679</td>\n",
       "    </tr>\n",
       "    <tr>\n",
       "      <th>macro avg</th>\n",
       "      <td>0.663883</td>\n",
       "      <td>0.821757</td>\n",
       "      <td>0.699777</td>\n",
       "      <td>1568.000000</td>\n",
       "    </tr>\n",
       "    <tr>\n",
       "      <th>weighted avg</th>\n",
       "      <td>0.920788</td>\n",
       "      <td>0.852679</td>\n",
       "      <td>0.876044</td>\n",
       "      <td>1568.000000</td>\n",
       "    </tr>\n",
       "  </tbody>\n",
       "</table>\n",
       "</div>"
      ],
      "text/plain": [
       "              precision    recall  f1-score      support\n",
       "0              0.351613  0.784173  0.485523   139.000000\n",
       "1              0.976153  0.859342  0.914031  1429.000000\n",
       "accuracy       0.852679  0.852679  0.852679     0.852679\n",
       "macro avg      0.663883  0.821757  0.699777  1568.000000\n",
       "weighted avg   0.920788  0.852679  0.876044  1568.000000"
      ]
     },
     "execution_count": 33,
     "metadata": {},
     "output_type": "execute_result"
    }
   ],
   "source": [
    "pd.DataFrame(metrics.classification_report(y_test, \n",
    "                                           (lda_pred_test[:, 1] >= lda_opt).astype(int), \n",
    "                                           output_dict=True)).transpose()"
   ]
  },
  {
   "cell_type": "markdown",
   "id": "38d7e50c-811c-49ab-a9a8-9b71b8a6fc9a",
   "metadata": {},
   "source": [
    "_______\n",
    "\n",
    "## Quadratic Discriminant Analysis\n",
    "\n",
    "No hyperparameters to tune"
   ]
  },
  {
   "cell_type": "code",
   "execution_count": 34,
   "id": "aaa6a1c3-ff79-4e22-b5ba-e43666e264cd",
   "metadata": {},
   "outputs": [
    {
     "name": "stdout",
     "output_type": "stream",
     "text": [
      "QDA 5-fold Cross Validation Average 0.999913\n"
     ]
    }
   ],
   "source": [
    "qda_model = QuadraticDiscriminantAnalysis().fit(X_train, y_train)\n",
    "qda_cv = cross_val_score(qda_model, X_train, y_train)\n",
    "\n",
    "print('QDA 5-fold Cross Validation Average %f' % qda_cv.mean())"
   ]
  },
  {
   "cell_type": "code",
   "execution_count": 35,
   "id": "bfcdcc14-7314-400c-a36e-7765bc3c8aad",
   "metadata": {},
   "outputs": [
    {
     "data": {
      "image/png": "[encoded data removed]",
      "text/plain": [
       "<Figure size 432x288 with 2 Axes>"
      ]
     },
     "metadata": {
      "needs_background": "light"
     },
     "output_type": "display_data"
    }
   ],
   "source": [
    "qda_pred_test = qda_model.predict_proba(X_test)\n",
    "\n",
    "# Predicted Classes\n",
    "qda_pred = (qda_pred_test[:, 1] >= 0.5).astype(int)\n",
    "\n",
    "metrics.accuracy_score(y_test, qda_pred)\n",
    "qda_cfm = metrics.confusion_matrix(y_test, qda_pred)\n",
    "sns.heatmap(qda_cfm, annot=True, fmt='d')\n",
    "plt.title('QDA Confusion Matrix - Test Data')\n",
    "plt.show()"
   ]
  },
  {
   "cell_type": "code",
   "execution_count": 36,
   "id": "aa3e6644-8b8d-407e-996c-822e0cffbc6a",
   "metadata": {},
   "outputs": [
    {
     "data": {
      "text/html": [
       "<div>\n",
       "<style scoped>\n",
       "    .dataframe tbody tr th:only-of-type {\n",
       "        vertical-align: middle;\n",
       "    }\n",
       "\n",
       "    .dataframe tbody tr th {\n",
       "        vertical-align: top;\n",
       "    }\n",
       "\n",
       "    .dataframe thead th {\n",
       "        text-align: right;\n",
       "    }\n",
       "</style>\n",
       "<table border=\"1\" class=\"dataframe\">\n",
       "  <thead>\n",
       "    <tr style=\"text-align: right;\">\n",
       "      <th></th>\n",
       "      <th>precision</th>\n",
       "      <th>recall</th>\n",
       "      <th>f1-score</th>\n",
       "      <th>support</th>\n",
       "      <th>model</th>\n",
       "    </tr>\n",
       "  </thead>\n",
       "  <tbody>\n",
       "    <tr>\n",
       "      <th>0</th>\n",
       "      <td>0.000000</td>\n",
       "      <td>0.000000</td>\n",
       "      <td>0.000000</td>\n",
       "      <td>139.000000</td>\n",
       "      <td>QDA</td>\n",
       "    </tr>\n",
       "    <tr>\n",
       "      <th>1</th>\n",
       "      <td>0.911352</td>\n",
       "      <td>1.000000</td>\n",
       "      <td>0.953620</td>\n",
       "      <td>1429.000000</td>\n",
       "      <td>QDA</td>\n",
       "    </tr>\n",
       "    <tr>\n",
       "      <th>accuracy</th>\n",
       "      <td>0.911352</td>\n",
       "      <td>0.911352</td>\n",
       "      <td>0.911352</td>\n",
       "      <td>0.911352</td>\n",
       "      <td>QDA</td>\n",
       "    </tr>\n",
       "    <tr>\n",
       "      <th>macro avg</th>\n",
       "      <td>0.455676</td>\n",
       "      <td>0.500000</td>\n",
       "      <td>0.476810</td>\n",
       "      <td>1568.000000</td>\n",
       "      <td>QDA</td>\n",
       "    </tr>\n",
       "    <tr>\n",
       "      <th>weighted avg</th>\n",
       "      <td>0.830563</td>\n",
       "      <td>0.911352</td>\n",
       "      <td>0.869084</td>\n",
       "      <td>1568.000000</td>\n",
       "      <td>QDA</td>\n",
       "    </tr>\n",
       "  </tbody>\n",
       "</table>\n",
       "</div>"
      ],
      "text/plain": [
       "              precision    recall  f1-score      support model\n",
       "0              0.000000  0.000000  0.000000   139.000000   QDA\n",
       "1              0.911352  1.000000  0.953620  1429.000000   QDA\n",
       "accuracy       0.911352  0.911352  0.911352     0.911352   QDA\n",
       "macro avg      0.455676  0.500000  0.476810  1568.000000   QDA\n",
       "weighted avg   0.830563  0.911352  0.869084  1568.000000   QDA"
      ]
     },
     "execution_count": 36,
     "metadata": {},
     "output_type": "execute_result"
    }
   ],
   "source": [
    "qda_met = pd.DataFrame(metrics.classification_report(y_test, qda_pred, \n",
    "                                                     output_dict=True)).transpose()\n",
    "qda_met['model'] = 'QDA'\n",
    "all_metrics = pd.concat([all_metrics, qda_met.reset_index()], axis=0)\n",
    "qda_met"
   ]
  },
  {
   "cell_type": "markdown",
   "id": "f22faf32-f038-4145-ac70-875fe0346dbe",
   "metadata": {},
   "source": [
    "QDA model is not able to predict the negative (0) class and performs exactly as the Baseline model"
   ]
  },
  {
   "cell_type": "markdown",
   "id": "1af23f40-d2bd-4cfa-a250-a36fdd4b2b54",
   "metadata": {},
   "source": [
    "________\n",
    "\n",
    "## Naive Bayes\n",
    "\n",
    "No hyperparameters to tune"
   ]
  },
  {
   "cell_type": "code",
   "execution_count": 37,
   "id": "8f8b81aa-5ff5-4360-a676-3f70a755166c",
   "metadata": {},
   "outputs": [
    {
     "data": {
      "image/png": "[encoded data removed]",
      "text/plain": [
       "<Figure size 432x288 with 1 Axes>"
      ]
     },
     "metadata": {
      "needs_background": "light"
     },
     "output_type": "display_data"
    },
    {
     "name": "stdout",
     "output_type": "stream",
     "text": [
      "Optimal Threshold 0.000000\n"
     ]
    }
   ],
   "source": [
    "nb_model = GaussianNB()\n",
    "nb_model = nb_model.fit(X_train, y_train)\n",
    "nb_pred_test = nb_model.predict_proba(X_test)\n",
    "\n",
    "# Class predictions\n",
    "nb_pred = (nb_pred_test[:, 1] >= 0.5).astype('int')\n",
    "\n",
    "nb_roc = metrics.roc_curve(y_test, nb_pred_test[:, 1])\n",
    "nb_auc = metrics.auc(nb_roc[0], nb_roc[1])\n",
    "nb_plot = metrics.RocCurveDisplay(fpr=nb_roc[0], tpr=nb_roc[1], \n",
    "                                  roc_auc=nb_auc, estimator_name='Naive Bayes Model')\n",
    "\n",
    "fig, ax = plt.subplots()\n",
    "fig.suptitle('ROC Curve - Naive Bayes')\n",
    "plt.plot([0, 1], [0, 1], linestyle = '--', color = '#174ab0')\n",
    "nb_plot.plot(ax)\n",
    "plt.show()\n",
    "\n",
    "# Optimal Threshold value\n",
    "nb_opt = nb_roc[2][np.argmax(nb_roc[1] - nb_roc[0])]\n",
    "print('Optimal Threshold %f' % nb_opt)"
   ]
  },
  {
   "cell_type": "code",
   "execution_count": 38,
   "id": "fbeb760d-54ff-44da-9fb6-e208443a0e53",
   "metadata": {},
   "outputs": [
    {
     "data": {
      "image/png": "[encoded data removed]",
      "text/plain": [
       "<Figure size 432x288 with 2 Axes>"
      ]
     },
     "metadata": {
      "needs_background": "light"
     },
     "output_type": "display_data"
    }
   ],
   "source": [
    "metrics.accuracy_score(y_test, nb_pred)\n",
    "nb_cfm = metrics.confusion_matrix(y_test, nb_pred)\n",
    "sns.heatmap(nb_cfm, annot=True, fmt='d')\n",
    "plt.title('Naive Bayes Confusion Matrix - Test Data')\n",
    "plt.show()"
   ]
  },
  {
   "cell_type": "code",
   "execution_count": 39,
   "id": "a1007f66-9265-4b7d-82ed-8d8c89beb3d8",
   "metadata": {},
   "outputs": [
    {
     "data": {
      "text/html": [
       "<div>\n",
       "<style scoped>\n",
       "    .dataframe tbody tr th:only-of-type {\n",
       "        vertical-align: middle;\n",
       "    }\n",
       "\n",
       "    .dataframe tbody tr th {\n",
       "        vertical-align: top;\n",
       "    }\n",
       "\n",
       "    .dataframe thead th {\n",
       "        text-align: right;\n",
       "    }\n",
       "</style>\n",
       "<table border=\"1\" class=\"dataframe\">\n",
       "  <thead>\n",
       "    <tr style=\"text-align: right;\">\n",
       "      <th></th>\n",
       "      <th>precision</th>\n",
       "      <th>recall</th>\n",
       "      <th>f1-score</th>\n",
       "      <th>support</th>\n",
       "      <th>model</th>\n",
       "    </tr>\n",
       "  </thead>\n",
       "  <tbody>\n",
       "    <tr>\n",
       "      <th>0</th>\n",
       "      <td>0.120652</td>\n",
       "      <td>0.798561</td>\n",
       "      <td>0.209632</td>\n",
       "      <td>139.000000</td>\n",
       "      <td>Naive Bayes</td>\n",
       "    </tr>\n",
       "    <tr>\n",
       "      <th>1</th>\n",
       "      <td>0.956790</td>\n",
       "      <td>0.433870</td>\n",
       "      <td>0.597015</td>\n",
       "      <td>1429.000000</td>\n",
       "      <td>Naive Bayes</td>\n",
       "    </tr>\n",
       "    <tr>\n",
       "      <th>accuracy</th>\n",
       "      <td>0.466199</td>\n",
       "      <td>0.466199</td>\n",
       "      <td>0.466199</td>\n",
       "      <td>0.466199</td>\n",
       "      <td>Naive Bayes</td>\n",
       "    </tr>\n",
       "    <tr>\n",
       "      <th>macro avg</th>\n",
       "      <td>0.538721</td>\n",
       "      <td>0.616215</td>\n",
       "      <td>0.403323</td>\n",
       "      <td>1568.000000</td>\n",
       "      <td>Naive Bayes</td>\n",
       "    </tr>\n",
       "    <tr>\n",
       "      <th>weighted avg</th>\n",
       "      <td>0.882668</td>\n",
       "      <td>0.466199</td>\n",
       "      <td>0.562674</td>\n",
       "      <td>1568.000000</td>\n",
       "      <td>Naive Bayes</td>\n",
       "    </tr>\n",
       "  </tbody>\n",
       "</table>\n",
       "</div>"
      ],
      "text/plain": [
       "              precision    recall  f1-score      support        model\n",
       "0              0.120652  0.798561  0.209632   139.000000  Naive Bayes\n",
       "1              0.956790  0.433870  0.597015  1429.000000  Naive Bayes\n",
       "accuracy       0.466199  0.466199  0.466199     0.466199  Naive Bayes\n",
       "macro avg      0.538721  0.616215  0.403323  1568.000000  Naive Bayes\n",
       "weighted avg   0.882668  0.466199  0.562674  1568.000000  Naive Bayes"
      ]
     },
     "execution_count": 39,
     "metadata": {},
     "output_type": "execute_result"
    }
   ],
   "source": [
    "nb_met = pd.DataFrame(metrics.classification_report(y_test, nb_pred, \n",
    "                                                     output_dict=True)).transpose()\n",
    "nb_met['model'] = 'Naive Bayes'\n",
    "all_metrics = pd.concat([all_metrics, nb_met.reset_index()], axis=0)\n",
    "nb_met"
   ]
  },
  {
   "cell_type": "markdown",
   "id": "fe0524aa-46c5-4659-a104-946e5b9bed77",
   "metadata": {},
   "source": [
    "______\n",
    "\n",
    "## Decision Trees"
   ]
  },
  {
   "cell_type": "code",
   "execution_count": 40,
   "id": "fcc8a2a5-c59a-4164-8547-87aa63b45339",
   "metadata": {},
   "outputs": [
    {
     "name": "stdout",
     "output_type": "stream",
     "text": [
      "Depth =  3 \t Testing Accuracy = 0.85 \t     Training Accuracy = 0.76\n",
      "Depth =  4 \t Testing Accuracy = 0.72 \t     Training Accuracy = 0.78\n",
      "Depth =  5 \t Testing Accuracy = 0.74 \t     Training Accuracy = 0.83\n",
      "Depth =  6 \t Testing Accuracy = 0.80 \t     Training Accuracy = 0.87\n",
      "Depth =  7 \t Testing Accuracy = 0.80 \t     Training Accuracy = 0.90\n",
      "Depth =  8 \t Testing Accuracy = 0.84 \t     Training Accuracy = 0.92\n",
      "Depth =  9 \t Testing Accuracy = 0.84 \t     Training Accuracy = 0.95\n",
      "Depth = 10 \t Testing Accuracy = 0.85 \t     Training Accuracy = 0.97\n",
      "Depth = 11 \t Testing Accuracy = 0.85 \t     Training Accuracy = 0.98\n",
      "Depth = 12 \t Testing Accuracy = 0.85 \t     Training Accuracy = 0.98\n",
      "Depth = 13 \t Testing Accuracy = 0.87 \t     Training Accuracy = 0.99\n",
      "Depth = 14 \t Testing Accuracy = 0.86 \t     Training Accuracy = 0.99\n",
      "Depth = 15 \t Testing Accuracy = 0.86 \t     Training Accuracy = 0.99\n"
     ]
    },
    {
     "data": {
      "image/png": "[encoded data removed]",
      "text/plain": [
       "<Figure size 432x288 with 1 Axes>"
      ]
     },
     "metadata": {
      "needs_background": "light"
     },
     "output_type": "display_data"
    }
   ],
   "source": [
    "accuracy_depth = []\n",
    "\n",
    "# Loop through depth ranges from 3 to 15\n",
    "for depth in range(3, 16):\n",
    "    dt = tree.DecisionTreeClassifier(max_depth=depth, random_state=42)\n",
    "    dt = dt.fit(X_train,y_train)\n",
    "    dt_pred = dt.predict(X_test)\n",
    "    dt_train_pred = dt.predict(X_train)\n",
    "    accuracy_depth.append({'depth':depth,\n",
    "                           'test_accuracy':accuracy_score(y_test, dt_pred),\n",
    "                           'train_accuracy':accuracy_score(y_train, dt_train_pred)})\n",
    "    print('Depth = %2.0f \\t Testing Accuracy = %2.2f \\t \\\n",
    "    Training Accuracy = %2.2f'% (depth,accuracy_score(y_test, dt_pred),\n",
    "                               accuracy_score(y_train, dt_train_pred)))\n",
    "\n",
    "dt_acc_df = pd.DataFrame(accuracy_depth)\n",
    "dt_acc_df.index = dt_acc_df['depth']\n",
    "\n",
    "fig, ax=plt.subplots()\n",
    "\n",
    "ax.plot(dt_acc_df.depth, dt_acc_df.train_accuracy,'ro-',label='Training Error')\n",
    "ax.plot(dt_acc_df.depth, dt_acc_df.test_accuracy,'bv--',label='Testing Error')\n",
    "plt.title('Accuracy by Tree Depth')\n",
    "ax.set_xlabel('Max Depth')\n",
    "ax.set_ylabel('Accuracy')\n",
    "plt.legend()\n",
    "plt.show()"
   ]
  },
  {
   "cell_type": "code",
   "execution_count": 41,
   "id": "ecf5e4f4-0c08-4310-8a32-d6500d7e3382",
   "metadata": {},
   "outputs": [],
   "source": [
    "# Optimal model hyperparameters\n",
    "dt = tree.DecisionTreeClassifier(max_depth=14, random_state=42)\n",
    "dt.fit(X_train, y_train)\n",
    "\n",
    "dt_pred_test = dt.predict_proba(X_test)"
   ]
  },
  {
   "cell_type": "code",
   "execution_count": 42,
   "id": "baac9191-9c84-4c1d-8786-4d0fb5c9f0b1",
   "metadata": {},
   "outputs": [
    {
     "data": {
      "image/png": "[encoded data removed]",
      "text/plain": [
       "<Figure size 432x288 with 2 Axes>"
      ]
     },
     "metadata": {
      "needs_background": "light"
     },
     "output_type": "display_data"
    }
   ],
   "source": [
    "# Predicted Classes\n",
    "dt_pred = (dt_pred_test[:, 1] >= 0.5).astype(int)\n",
    "\n",
    "metrics.accuracy_score(y_test, dt_pred)\n",
    "dt_cfm = metrics.confusion_matrix(y_test, dt_pred)\n",
    "sns.heatmap(dt_cfm, annot=True, fmt='d')\n",
    "plt.title('Decision Tree Confusion Matrix - Test Data')\n",
    "plt.show()"
   ]
  },
  {
   "cell_type": "code",
   "execution_count": 43,
   "id": "090f44e8-4885-4773-99f1-76b763d1d8e5",
   "metadata": {},
   "outputs": [
    {
     "data": {
      "text/html": [
       "<div>\n",
       "<style scoped>\n",
       "    .dataframe tbody tr th:only-of-type {\n",
       "        vertical-align: middle;\n",
       "    }\n",
       "\n",
       "    .dataframe tbody tr th {\n",
       "        vertical-align: top;\n",
       "    }\n",
       "\n",
       "    .dataframe thead th {\n",
       "        text-align: right;\n",
       "    }\n",
       "</style>\n",
       "<table border=\"1\" class=\"dataframe\">\n",
       "  <thead>\n",
       "    <tr style=\"text-align: right;\">\n",
       "      <th></th>\n",
       "      <th>precision</th>\n",
       "      <th>recall</th>\n",
       "      <th>f1-score</th>\n",
       "      <th>support</th>\n",
       "      <th>model</th>\n",
       "    </tr>\n",
       "  </thead>\n",
       "  <tbody>\n",
       "    <tr>\n",
       "      <th>0</th>\n",
       "      <td>0.320346</td>\n",
       "      <td>0.532374</td>\n",
       "      <td>0.400000</td>\n",
       "      <td>139.000000</td>\n",
       "      <td>Decision Trees</td>\n",
       "    </tr>\n",
       "    <tr>\n",
       "      <th>1</th>\n",
       "      <td>0.951384</td>\n",
       "      <td>0.890133</td>\n",
       "      <td>0.919740</td>\n",
       "      <td>1429.000000</td>\n",
       "      <td>Decision Trees</td>\n",
       "    </tr>\n",
       "    <tr>\n",
       "      <th>accuracy</th>\n",
       "      <td>0.858418</td>\n",
       "      <td>0.858418</td>\n",
       "      <td>0.858418</td>\n",
       "      <td>0.858418</td>\n",
       "      <td>Decision Trees</td>\n",
       "    </tr>\n",
       "    <tr>\n",
       "      <th>macro avg</th>\n",
       "      <td>0.635865</td>\n",
       "      <td>0.711254</td>\n",
       "      <td>0.659870</td>\n",
       "      <td>1568.000000</td>\n",
       "      <td>Decision Trees</td>\n",
       "    </tr>\n",
       "    <tr>\n",
       "      <th>weighted avg</th>\n",
       "      <td>0.895444</td>\n",
       "      <td>0.858418</td>\n",
       "      <td>0.873666</td>\n",
       "      <td>1568.000000</td>\n",
       "      <td>Decision Trees</td>\n",
       "    </tr>\n",
       "  </tbody>\n",
       "</table>\n",
       "</div>"
      ],
      "text/plain": [
       "              precision    recall  f1-score      support           model\n",
       "0              0.320346  0.532374  0.400000   139.000000  Decision Trees\n",
       "1              0.951384  0.890133  0.919740  1429.000000  Decision Trees\n",
       "accuracy       0.858418  0.858418  0.858418     0.858418  Decision Trees\n",
       "macro avg      0.635865  0.711254  0.659870  1568.000000  Decision Trees\n",
       "weighted avg   0.895444  0.858418  0.873666  1568.000000  Decision Trees"
      ]
     },
     "execution_count": 43,
     "metadata": {},
     "output_type": "execute_result"
    }
   ],
   "source": [
    "dt_met = pd.DataFrame(metrics.classification_report(y_test, dt_pred, \n",
    "                                                    output_dict=True)).transpose()\n",
    "dt_met['model'] = 'Decision Trees'\n",
    "all_metrics = pd.concat([all_metrics, dt_met.reset_index()], axis=0)\n",
    "dt_met"
   ]
  },
  {
   "cell_type": "markdown",
   "id": "a8681e60-1bf9-427d-b76a-4341857628bb",
   "metadata": {},
   "source": [
    "### Decision Tree - Threshold Tuning"
   ]
  },
  {
   "cell_type": "code",
   "execution_count": 44,
   "id": "5ae4cbb2-0ae0-4896-b34e-520ab05eaac8",
   "metadata": {},
   "outputs": [
    {
     "data": {
      "image/png": "[encoded data removed]",
      "text/plain": [
       "<Figure size 432x288 with 1 Axes>"
      ]
     },
     "metadata": {
      "needs_background": "light"
     },
     "output_type": "display_data"
    },
    {
     "name": "stdout",
     "output_type": "stream",
     "text": [
      "Optimal Threshold 0.987365\n"
     ]
    }
   ],
   "source": [
    "dt_roc = metrics.roc_curve(y_test, dt_pred_test[:, 1])\n",
    "dt_auc = metrics.auc(dt_roc[0], dt_roc[1])\n",
    "dt_plot = metrics.RocCurveDisplay(fpr=dt_roc[0], tpr=dt_roc[1], \n",
    "                                  roc_auc=dt_auc, estimator_name='Decision Tree - Depth 14')\n",
    "\n",
    "fig, ax = plt.subplots()\n",
    "fig.suptitle('ROC Curve - Decision Trees')\n",
    "plt.plot([0, 1], [0, 1], linestyle = '--', color = '#174ab0')\n",
    "dt_plot.plot(ax)\n",
    "plt.show()\n",
    "\n",
    "# Optimal Threshold value\n",
    "dt_opt = dt_roc[2][np.argmax(dt_roc[1] - dt_roc[0])]\n",
    "\n",
    "print('Optimal Threshold %f' % dt_opt)"
   ]
  },
  {
   "cell_type": "code",
   "execution_count": 45,
   "id": "5e6d001c-6e5c-467a-a66c-f187690ac021",
   "metadata": {},
   "outputs": [
    {
     "data": {
      "image/png": "[encoded data removed]",
      "text/plain": [
       "<Figure size 432x288 with 2 Axes>"
      ]
     },
     "metadata": {
      "needs_background": "light"
     },
     "output_type": "display_data"
    }
   ],
   "source": [
    "dt_cfm = metrics.confusion_matrix(y_test, (dt_pred_test[:, 1] >= dt_opt).astype(int))\n",
    "sns.heatmap(dt_cfm, annot=True, fmt='g')\n",
    "plt.title('Decision Tree using Optimal Threshold')\n",
    "plt.show()"
   ]
  },
  {
   "cell_type": "code",
   "execution_count": 46,
   "id": "d8da05b2-b322-44df-bc6b-e3dcdbeca10d",
   "metadata": {},
   "outputs": [
    {
     "data": {
      "text/html": [
       "<div>\n",
       "<style scoped>\n",
       "    .dataframe tbody tr th:only-of-type {\n",
       "        vertical-align: middle;\n",
       "    }\n",
       "\n",
       "    .dataframe tbody tr th {\n",
       "        vertical-align: top;\n",
       "    }\n",
       "\n",
       "    .dataframe thead th {\n",
       "        text-align: right;\n",
       "    }\n",
       "</style>\n",
       "<table border=\"1\" class=\"dataframe\">\n",
       "  <thead>\n",
       "    <tr style=\"text-align: right;\">\n",
       "      <th></th>\n",
       "      <th>precision</th>\n",
       "      <th>recall</th>\n",
       "      <th>f1-score</th>\n",
       "      <th>support</th>\n",
       "    </tr>\n",
       "  </thead>\n",
       "  <tbody>\n",
       "    <tr>\n",
       "      <th>0</th>\n",
       "      <td>0.316872</td>\n",
       "      <td>0.553957</td>\n",
       "      <td>0.403141</td>\n",
       "      <td>139.000000</td>\n",
       "    </tr>\n",
       "    <tr>\n",
       "      <th>1</th>\n",
       "      <td>0.953208</td>\n",
       "      <td>0.883835</td>\n",
       "      <td>0.917211</td>\n",
       "      <td>1429.000000</td>\n",
       "    </tr>\n",
       "    <tr>\n",
       "      <th>accuracy</th>\n",
       "      <td>0.854592</td>\n",
       "      <td>0.854592</td>\n",
       "      <td>0.854592</td>\n",
       "      <td>0.854592</td>\n",
       "    </tr>\n",
       "    <tr>\n",
       "      <th>macro avg</th>\n",
       "      <td>0.635040</td>\n",
       "      <td>0.718896</td>\n",
       "      <td>0.660176</td>\n",
       "      <td>1568.000000</td>\n",
       "    </tr>\n",
       "    <tr>\n",
       "      <th>weighted avg</th>\n",
       "      <td>0.896798</td>\n",
       "      <td>0.854592</td>\n",
       "      <td>0.871640</td>\n",
       "      <td>1568.000000</td>\n",
       "    </tr>\n",
       "  </tbody>\n",
       "</table>\n",
       "</div>"
      ],
      "text/plain": [
       "              precision    recall  f1-score      support\n",
       "0              0.316872  0.553957  0.403141   139.000000\n",
       "1              0.953208  0.883835  0.917211  1429.000000\n",
       "accuracy       0.854592  0.854592  0.854592     0.854592\n",
       "macro avg      0.635040  0.718896  0.660176  1568.000000\n",
       "weighted avg   0.896798  0.854592  0.871640  1568.000000"
      ]
     },
     "execution_count": 46,
     "metadata": {},
     "output_type": "execute_result"
    }
   ],
   "source": [
    "pd.DataFrame(metrics.classification_report(y_test, \n",
    "                                           (dt_pred_test[:, 1] >= dt_opt).astype(int), \n",
    "                                           output_dict=True)).transpose()"
   ]
  },
  {
   "cell_type": "markdown",
   "id": "54a2798d-6838-40a3-97cf-35832bc27148",
   "metadata": {},
   "source": [
    "_______\n",
    "\n",
    "## Random Forest"
   ]
  },
  {
   "cell_type": "code",
   "execution_count": 47,
   "id": "60b4379f-0af6-4a57-8479-9152c4da5114",
   "metadata": {},
   "outputs": [
    {
     "data": {
      "image/png": "[encoded data removed]",
      "text/plain": [
       "<Figure size 1080x1080 with 4 Axes>"
      ]
     },
     "metadata": {
      "needs_background": "light"
     },
     "output_type": "display_data"
    }
   ],
   "source": [
    "estimators = [50, 100, 250, 500]\n",
    "depths = [1, 5, 10, 15, 20]\n",
    "\n",
    "fig, ax = plt.subplots(nrows=2, ncols=2, figsize=(15,15))\n",
    "axes = ax.flatten()\n",
    "k = 0\n",
    "\n",
    "rf_scores = {}\n",
    "\n",
    "for i in estimators:\n",
    "\n",
    "    train_scores = []\n",
    "    test_scores = []\n",
    "    for j in depths:\n",
    "        rf_model = RandomForestClassifier(n_estimators=i, \n",
    "                                          max_depth=j, \n",
    "                                          random_state=42).fit(X_train, y_train)\n",
    "        train_scores.append(metrics.accuracy_score(y_train, rf_model.predict(X_train)))\n",
    "        test_scores.append(metrics.accuracy_score(y_test, rf_model.predict(X_test)))\n",
    "    \n",
    "    rf_scores[i] = {'train': train_scores, 'test': test_scores}\n",
    "  \n",
    "    sns.lineplot(x=depths, y=train_scores, label='Training Accuracy', ax=axes[k])\n",
    "    sns.lineplot(x=depths, y=test_scores, label='Test Accuracy', ax=axes[k])\n",
    "    axes[k].set_title('Estimators: %d' % i)\n",
    "    axes[k].set_xlabel('Max Depth')\n",
    "    axes[k].set_ylabel('Accuracy')\n",
    "    k += 1 "
   ]
  },
  {
   "cell_type": "code",
   "execution_count": 48,
   "id": "be0fea8a-8e0a-49e1-8f9a-fdd3a87405e1",
   "metadata": {},
   "outputs": [],
   "source": [
    "rf_acc_df = None\n",
    "\n",
    "for i in estimators:\n",
    "    if rf_acc_df is None:\n",
    "        rf_acc_df = pd.DataFrame(rf_scores[i])\n",
    "        rf_acc_df['Estimators'] = i\n",
    "        rf_acc_df['Max Depth'] = depths\n",
    "    else:\n",
    "        df = pd.DataFrame(rf_scores[i])\n",
    "        df['Estimators'] = i\n",
    "        df['Max Depth'] = depths\n",
    "        \n",
    "        rf_acc_df = pd.concat([rf_acc_df, df], axis=0)"
   ]
  },
  {
   "cell_type": "code",
   "execution_count": 49,
   "id": "81cd2375-9a0c-4b25-b2c2-f8b4cbf834a8",
   "metadata": {},
   "outputs": [
    {
     "data": {
      "text/html": [
       "<div>\n",
       "<style scoped>\n",
       "    .dataframe tbody tr th:only-of-type {\n",
       "        vertical-align: middle;\n",
       "    }\n",
       "\n",
       "    .dataframe tbody tr th {\n",
       "        vertical-align: top;\n",
       "    }\n",
       "\n",
       "    .dataframe thead th {\n",
       "        text-align: right;\n",
       "    }\n",
       "</style>\n",
       "<table border=\"1\" class=\"dataframe\">\n",
       "  <thead>\n",
       "    <tr style=\"text-align: right;\">\n",
       "      <th></th>\n",
       "      <th>train</th>\n",
       "      <th>test</th>\n",
       "      <th>Estimators</th>\n",
       "      <th>Max Depth</th>\n",
       "    </tr>\n",
       "  </thead>\n",
       "  <tbody>\n",
       "    <tr>\n",
       "      <th>0</th>\n",
       "      <td>0.792417</td>\n",
       "      <td>0.776148</td>\n",
       "      <td>50</td>\n",
       "      <td>1</td>\n",
       "    </tr>\n",
       "    <tr>\n",
       "      <th>1</th>\n",
       "      <td>0.925564</td>\n",
       "      <td>0.869260</td>\n",
       "      <td>50</td>\n",
       "      <td>5</td>\n",
       "    </tr>\n",
       "    <tr>\n",
       "      <th>2</th>\n",
       "      <td>0.994671</td>\n",
       "      <td>0.922832</td>\n",
       "      <td>50</td>\n",
       "      <td>10</td>\n",
       "    </tr>\n",
       "    <tr>\n",
       "      <th>3</th>\n",
       "      <td>0.999651</td>\n",
       "      <td>0.936862</td>\n",
       "      <td>50</td>\n",
       "      <td>15</td>\n",
       "    </tr>\n",
       "    <tr>\n",
       "      <th>4</th>\n",
       "      <td>0.999825</td>\n",
       "      <td>0.938138</td>\n",
       "      <td>50</td>\n",
       "      <td>20</td>\n",
       "    </tr>\n",
       "    <tr>\n",
       "      <th>0</th>\n",
       "      <td>0.816792</td>\n",
       "      <td>0.788903</td>\n",
       "      <td>100</td>\n",
       "      <td>1</td>\n",
       "    </tr>\n",
       "    <tr>\n",
       "      <th>1</th>\n",
       "      <td>0.931767</td>\n",
       "      <td>0.885204</td>\n",
       "      <td>100</td>\n",
       "      <td>5</td>\n",
       "    </tr>\n",
       "    <tr>\n",
       "      <th>2</th>\n",
       "      <td>0.995020</td>\n",
       "      <td>0.930485</td>\n",
       "      <td>100</td>\n",
       "      <td>10</td>\n",
       "    </tr>\n",
       "    <tr>\n",
       "      <th>3</th>\n",
       "      <td>0.999563</td>\n",
       "      <td>0.936862</td>\n",
       "      <td>100</td>\n",
       "      <td>15</td>\n",
       "    </tr>\n",
       "    <tr>\n",
       "      <th>4</th>\n",
       "      <td>0.999913</td>\n",
       "      <td>0.937500</td>\n",
       "      <td>100</td>\n",
       "      <td>20</td>\n",
       "    </tr>\n",
       "    <tr>\n",
       "      <th>0</th>\n",
       "      <td>0.802813</td>\n",
       "      <td>0.800383</td>\n",
       "      <td>250</td>\n",
       "      <td>1</td>\n",
       "    </tr>\n",
       "    <tr>\n",
       "      <th>1</th>\n",
       "      <td>0.934388</td>\n",
       "      <td>0.887755</td>\n",
       "      <td>250</td>\n",
       "      <td>5</td>\n",
       "    </tr>\n",
       "    <tr>\n",
       "      <th>2</th>\n",
       "      <td>0.995020</td>\n",
       "      <td>0.933036</td>\n",
       "      <td>250</td>\n",
       "      <td>10</td>\n",
       "    </tr>\n",
       "    <tr>\n",
       "      <th>3</th>\n",
       "      <td>0.999651</td>\n",
       "      <td>0.938138</td>\n",
       "      <td>250</td>\n",
       "      <td>15</td>\n",
       "    </tr>\n",
       "    <tr>\n",
       "      <th>4</th>\n",
       "      <td>1.000000</td>\n",
       "      <td>0.937500</td>\n",
       "      <td>250</td>\n",
       "      <td>20</td>\n",
       "    </tr>\n",
       "    <tr>\n",
       "      <th>0</th>\n",
       "      <td>0.800454</td>\n",
       "      <td>0.790179</td>\n",
       "      <td>500</td>\n",
       "      <td>1</td>\n",
       "    </tr>\n",
       "    <tr>\n",
       "      <th>1</th>\n",
       "      <td>0.934388</td>\n",
       "      <td>0.885842</td>\n",
       "      <td>500</td>\n",
       "      <td>5</td>\n",
       "    </tr>\n",
       "    <tr>\n",
       "      <th>2</th>\n",
       "      <td>0.994321</td>\n",
       "      <td>0.933673</td>\n",
       "      <td>500</td>\n",
       "      <td>10</td>\n",
       "    </tr>\n",
       "    <tr>\n",
       "      <th>3</th>\n",
       "      <td>0.999651</td>\n",
       "      <td>0.938776</td>\n",
       "      <td>500</td>\n",
       "      <td>15</td>\n",
       "    </tr>\n",
       "    <tr>\n",
       "      <th>4</th>\n",
       "      <td>1.000000</td>\n",
       "      <td>0.940051</td>\n",
       "      <td>500</td>\n",
       "      <td>20</td>\n",
       "    </tr>\n",
       "  </tbody>\n",
       "</table>\n",
       "</div>"
      ],
      "text/plain": [
       "      train      test  Estimators  Max Depth\n",
       "0  0.792417  0.776148          50          1\n",
       "1  0.925564  0.869260          50          5\n",
       "2  0.994671  0.922832          50         10\n",
       "3  0.999651  0.936862          50         15\n",
       "4  0.999825  0.938138          50         20\n",
       "0  0.816792  0.788903         100          1\n",
       "1  0.931767  0.885204         100          5\n",
       "2  0.995020  0.930485         100         10\n",
       "3  0.999563  0.936862         100         15\n",
       "4  0.999913  0.937500         100         20\n",
       "0  0.802813  0.800383         250          1\n",
       "1  0.934388  0.887755         250          5\n",
       "2  0.995020  0.933036         250         10\n",
       "3  0.999651  0.938138         250         15\n",
       "4  1.000000  0.937500         250         20\n",
       "0  0.800454  0.790179         500          1\n",
       "1  0.934388  0.885842         500          5\n",
       "2  0.994321  0.933673         500         10\n",
       "3  0.999651  0.938776         500         15\n",
       "4  1.000000  0.940051         500         20"
      ]
     },
     "execution_count": 49,
     "metadata": {},
     "output_type": "execute_result"
    }
   ],
   "source": [
    "rf_acc_df"
   ]
  },
  {
   "cell_type": "code",
   "execution_count": 50,
   "id": "72ad945e-488b-4fea-9b02-ef44cae5b3ae",
   "metadata": {},
   "outputs": [],
   "source": [
    "rf_model = RandomForestClassifier(n_estimators=500, \n",
    "                                  max_depth=20, \n",
    "                                  random_state=42).fit(X_train, y_train)\n",
    "rf_pred_test = rf_model.predict_proba(X_test)"
   ]
  },
  {
   "cell_type": "code",
   "execution_count": 51,
   "id": "4bbff3d9-de7b-4107-80ce-632abc28d2ce",
   "metadata": {},
   "outputs": [
    {
     "data": {
      "image/png": "[encoded data removed]",
      "text/plain": [
       "<Figure size 432x288 with 2 Axes>"
      ]
     },
     "metadata": {
      "needs_background": "light"
     },
     "output_type": "display_data"
    }
   ],
   "source": [
    "# Predicted Classes\n",
    "rf_pred = (rf_pred_test[:, 1] >= 0.5).astype(int)\n",
    "\n",
    "metrics.accuracy_score(y_test, rf_pred)\n",
    "rf_cfm = metrics.confusion_matrix(y_test, rf_pred)\n",
    "sns.heatmap(rf_cfm, annot=True, fmt='d')\n",
    "plt.title('Random Forest Confusion Matrix - Test Data')\n",
    "plt.show()"
   ]
  },
  {
   "cell_type": "code",
   "execution_count": 52,
   "id": "4f513c3b-d87d-4888-80a8-413800c772e4",
   "metadata": {},
   "outputs": [
    {
     "data": {
      "text/html": [
       "<div>\n",
       "<style scoped>\n",
       "    .dataframe tbody tr th:only-of-type {\n",
       "        vertical-align: middle;\n",
       "    }\n",
       "\n",
       "    .dataframe tbody tr th {\n",
       "        vertical-align: top;\n",
       "    }\n",
       "\n",
       "    .dataframe thead th {\n",
       "        text-align: right;\n",
       "    }\n",
       "</style>\n",
       "<table border=\"1\" class=\"dataframe\">\n",
       "  <thead>\n",
       "    <tr style=\"text-align: right;\">\n",
       "      <th></th>\n",
       "      <th>precision</th>\n",
       "      <th>recall</th>\n",
       "      <th>f1-score</th>\n",
       "      <th>support</th>\n",
       "      <th>model</th>\n",
       "    </tr>\n",
       "  </thead>\n",
       "  <tbody>\n",
       "    <tr>\n",
       "      <th>0</th>\n",
       "      <td>0.784810</td>\n",
       "      <td>0.446043</td>\n",
       "      <td>0.568807</td>\n",
       "      <td>139.000000</td>\n",
       "      <td>Random Forest</td>\n",
       "    </tr>\n",
       "    <tr>\n",
       "      <th>1</th>\n",
       "      <td>0.948287</td>\n",
       "      <td>0.988104</td>\n",
       "      <td>0.967786</td>\n",
       "      <td>1429.000000</td>\n",
       "      <td>Random Forest</td>\n",
       "    </tr>\n",
       "    <tr>\n",
       "      <th>accuracy</th>\n",
       "      <td>0.940051</td>\n",
       "      <td>0.940051</td>\n",
       "      <td>0.940051</td>\n",
       "      <td>0.940051</td>\n",
       "      <td>Random Forest</td>\n",
       "    </tr>\n",
       "    <tr>\n",
       "      <th>macro avg</th>\n",
       "      <td>0.866549</td>\n",
       "      <td>0.717073</td>\n",
       "      <td>0.768297</td>\n",
       "      <td>1568.000000</td>\n",
       "      <td>Random Forest</td>\n",
       "    </tr>\n",
       "    <tr>\n",
       "      <th>weighted avg</th>\n",
       "      <td>0.933796</td>\n",
       "      <td>0.940051</td>\n",
       "      <td>0.932417</td>\n",
       "      <td>1568.000000</td>\n",
       "      <td>Random Forest</td>\n",
       "    </tr>\n",
       "  </tbody>\n",
       "</table>\n",
       "</div>"
      ],
      "text/plain": [
       "              precision    recall  f1-score      support          model\n",
       "0              0.784810  0.446043  0.568807   139.000000  Random Forest\n",
       "1              0.948287  0.988104  0.967786  1429.000000  Random Forest\n",
       "accuracy       0.940051  0.940051  0.940051     0.940051  Random Forest\n",
       "macro avg      0.866549  0.717073  0.768297  1568.000000  Random Forest\n",
       "weighted avg   0.933796  0.940051  0.932417  1568.000000  Random Forest"
      ]
     },
     "execution_count": 52,
     "metadata": {},
     "output_type": "execute_result"
    }
   ],
   "source": [
    "rf_met = pd.DataFrame(metrics.classification_report(y_test, rf_pred, \n",
    "                                                    output_dict=True)).transpose()\n",
    "rf_met['model'] = 'Random Forest'\n",
    "all_metrics = pd.concat([all_metrics, rf_met.reset_index()], axis=0)\n",
    "rf_met"
   ]
  },
  {
   "cell_type": "markdown",
   "id": "14ab0fda-2147-4a93-9f46-69164677462c",
   "metadata": {},
   "source": [
    "### Random Forest - Threshold Tuning"
   ]
  },
  {
   "cell_type": "code",
   "execution_count": 53,
   "id": "769c5078-5fc5-423f-8ad2-69c9242fec22",
   "metadata": {},
   "outputs": [
    {
     "data": {
      "image/png": "[encoded data removed]",
      "text/plain": [
       "<Figure size 432x288 with 1 Axes>"
      ]
     },
     "metadata": {
      "needs_background": "light"
     },
     "output_type": "display_data"
    },
    {
     "name": "stdout",
     "output_type": "stream",
     "text": [
      "Optimal Threshold 0.753126\n"
     ]
    }
   ],
   "source": [
    "rf_roc = metrics.roc_curve(y_test, rf_pred_test[:, 1])\n",
    "rf_auc = metrics.auc(rf_roc[0], rf_roc[1])\n",
    "rf_plot = metrics.RocCurveDisplay(fpr=rf_roc[0], tpr=rf_roc[1], \n",
    "                                  roc_auc=rf_auc, estimator_name='Random Forest')\n",
    "\n",
    "fig, ax = plt.subplots()\n",
    "fig.suptitle('ROC Curve - Random Forest')\n",
    "plt.plot([0, 1], [0, 1], linestyle = '--', color = '#174ab0')\n",
    "rf_plot.plot(ax)\n",
    "plt.show()\n",
    "\n",
    "# Optimal Threshold value\n",
    "rf_opt = rf_roc[2][np.argmax(rf_roc[1] - rf_roc[0])]\n",
    "\n",
    "print('Optimal Threshold %f' % rf_opt)"
   ]
  },
  {
   "cell_type": "code",
   "execution_count": 54,
   "id": "42b06b35-4211-4599-9582-f8d10ee36a2f",
   "metadata": {},
   "outputs": [
    {
     "data": {
      "image/png": "[encoded data removed]",
      "text/plain": [
       "<Figure size 432x288 with 2 Axes>"
      ]
     },
     "metadata": {
      "needs_background": "light"
     },
     "output_type": "display_data"
    }
   ],
   "source": [
    "rf_cfm = metrics.confusion_matrix(y_test, (rf_pred_test[:, 1] >= rf_opt).astype(int))\n",
    "sns.heatmap(rf_cfm, annot=True, fmt='g')\n",
    "plt.title('Random Forest using Optimal Threshold')\n",
    "plt.show()"
   ]
  },
  {
   "cell_type": "code",
   "execution_count": 55,
   "id": "fdf19126-2e84-44c5-8a46-67416ce54e00",
   "metadata": {},
   "outputs": [
    {
     "data": {
      "text/html": [
       "<div>\n",
       "<style scoped>\n",
       "    .dataframe tbody tr th:only-of-type {\n",
       "        vertical-align: middle;\n",
       "    }\n",
       "\n",
       "    .dataframe tbody tr th {\n",
       "        vertical-align: top;\n",
       "    }\n",
       "\n",
       "    .dataframe thead th {\n",
       "        text-align: right;\n",
       "    }\n",
       "</style>\n",
       "<table border=\"1\" class=\"dataframe\">\n",
       "  <thead>\n",
       "    <tr style=\"text-align: right;\">\n",
       "      <th></th>\n",
       "      <th>precision</th>\n",
       "      <th>recall</th>\n",
       "      <th>f1-score</th>\n",
       "      <th>support</th>\n",
       "    </tr>\n",
       "  </thead>\n",
       "  <tbody>\n",
       "    <tr>\n",
       "      <th>0</th>\n",
       "      <td>0.361516</td>\n",
       "      <td>0.892086</td>\n",
       "      <td>0.514523</td>\n",
       "      <td>139.000000</td>\n",
       "    </tr>\n",
       "    <tr>\n",
       "      <th>1</th>\n",
       "      <td>0.987755</td>\n",
       "      <td>0.846746</td>\n",
       "      <td>0.911831</td>\n",
       "      <td>1429.000000</td>\n",
       "    </tr>\n",
       "    <tr>\n",
       "      <th>accuracy</th>\n",
       "      <td>0.850765</td>\n",
       "      <td>0.850765</td>\n",
       "      <td>0.850765</td>\n",
       "      <td>0.850765</td>\n",
       "    </tr>\n",
       "    <tr>\n",
       "      <th>macro avg</th>\n",
       "      <td>0.674636</td>\n",
       "      <td>0.869416</td>\n",
       "      <td>0.713177</td>\n",
       "      <td>1568.000000</td>\n",
       "    </tr>\n",
       "    <tr>\n",
       "      <th>weighted avg</th>\n",
       "      <td>0.932240</td>\n",
       "      <td>0.850765</td>\n",
       "      <td>0.876611</td>\n",
       "      <td>1568.000000</td>\n",
       "    </tr>\n",
       "  </tbody>\n",
       "</table>\n",
       "</div>"
      ],
      "text/plain": [
       "              precision    recall  f1-score      support\n",
       "0              0.361516  0.892086  0.514523   139.000000\n",
       "1              0.987755  0.846746  0.911831  1429.000000\n",
       "accuracy       0.850765  0.850765  0.850765     0.850765\n",
       "macro avg      0.674636  0.869416  0.713177  1568.000000\n",
       "weighted avg   0.932240  0.850765  0.876611  1568.000000"
      ]
     },
     "execution_count": 55,
     "metadata": {},
     "output_type": "execute_result"
    }
   ],
   "source": [
    "pd.DataFrame(metrics.classification_report(y_test, \n",
    "                                           (rf_pred_test[:, 1] >= rf_opt).astype(int), \n",
    "                                           output_dict=True)).transpose()"
   ]
  },
  {
   "cell_type": "markdown",
   "id": "07c62eb9-580a-4e21-8d23-f7e173b4e869",
   "metadata": {},
   "source": [
    "_______\n",
    "\n",
    "## XGBoost Model\n",
    "\n",
    "We opted for XGBoost instead of GBM due to the extremely slow training time for GBM"
   ]
  },
  {
   "cell_type": "code",
   "execution_count": 56,
   "id": "33d42c14-4f96-4b94-88ed-bcd581f3fe43",
   "metadata": {},
   "outputs": [
    {
     "data": {
      "image/png": "[encoded data removed]",
      "text/plain": [
       "<Figure size 1080x1080 with 4 Axes>"
      ]
     },
     "metadata": {
      "needs_background": "light"
     },
     "output_type": "display_data"
    }
   ],
   "source": [
    "estimators = [50, 100, 250, 500]\n",
    "depths = [1, 5, 10, 15]\n",
    "\n",
    "fig, ax = plt.subplots(nrows=2, ncols=2, figsize=(15,15))\n",
    "axes = ax.flatten()\n",
    "k = 0\n",
    "\n",
    "gb_scores = {}\n",
    "\n",
    "for i in estimators:\n",
    "\n",
    "    train_scores = []\n",
    "    test_scores = []\n",
    "    for j in depths:\n",
    "        xgb_model = xgb.XGBClassifier(n_estimators=i, \n",
    "                                      learning_rate=1.0, \n",
    "                                      max_depth=j, \n",
    "                                      random_state=42, \n",
    "                                      n_jobs=4).fit(X_train, y_train)\n",
    "        \n",
    "        train_scores.append(metrics.accuracy_score(y_train, xgb_model.predict(X_train)))\n",
    "        test_scores.append(metrics.accuracy_score(y_test, xgb_model.predict(X_test)))\n",
    "        \n",
    "    gb_scores[i] = {'train': train_scores, 'test': test_scores}\n",
    "  \n",
    "    sns.lineplot(x=depths, y=train_scores, label='Training Accuracy', ax=axes[k])\n",
    "    sns.lineplot(x=depths, y=test_scores, label='Test Accuracy', ax=axes[k])\n",
    "    axes[k].set_title('Estimators: %d' % i)\n",
    "    axes[k].set_xlabel('Max Depth')\n",
    "    axes[k].set_ylabel('Accuracy')\n",
    "    k += 1 "
   ]
  },
  {
   "cell_type": "code",
   "execution_count": 57,
   "id": "7dd3ffa4-39f3-48f0-a17d-ac36afb71350",
   "metadata": {},
   "outputs": [],
   "source": [
    "xgb_acc_df = None\n",
    "\n",
    "for i in estimators:\n",
    "    if xgb_acc_df is None:\n",
    "        xgb_acc_df = pd.DataFrame(gb_scores[i])\n",
    "        xgb_acc_df['Estimators'] = i\n",
    "        xgb_acc_df['Max Depth'] = depths\n",
    "    else:\n",
    "        df = pd.DataFrame(gb_scores[i])\n",
    "        df['Estimators'] = i\n",
    "        df['Max Depth'] = depths\n",
    "        \n",
    "        xgb_acc_df = pd.concat([xgb_acc_df, df], axis=0)"
   ]
  },
  {
   "cell_type": "code",
   "execution_count": 58,
   "id": "ceae4131-c127-49f4-8cde-9b8ea376d255",
   "metadata": {},
   "outputs": [
    {
     "data": {
      "text/html": [
       "<div>\n",
       "<style scoped>\n",
       "    .dataframe tbody tr th:only-of-type {\n",
       "        vertical-align: middle;\n",
       "    }\n",
       "\n",
       "    .dataframe tbody tr th {\n",
       "        vertical-align: top;\n",
       "    }\n",
       "\n",
       "    .dataframe thead th {\n",
       "        text-align: right;\n",
       "    }\n",
       "</style>\n",
       "<table border=\"1\" class=\"dataframe\">\n",
       "  <thead>\n",
       "    <tr style=\"text-align: right;\">\n",
       "      <th></th>\n",
       "      <th>train</th>\n",
       "      <th>test</th>\n",
       "      <th>Estimators</th>\n",
       "      <th>Max Depth</th>\n",
       "    </tr>\n",
       "  </thead>\n",
       "  <tbody>\n",
       "    <tr>\n",
       "      <th>0</th>\n",
       "      <td>0.930543</td>\n",
       "      <td>0.868622</td>\n",
       "      <td>50</td>\n",
       "      <td>1</td>\n",
       "    </tr>\n",
       "    <tr>\n",
       "      <th>1</th>\n",
       "      <td>1.000000</td>\n",
       "      <td>0.935587</td>\n",
       "      <td>50</td>\n",
       "      <td>5</td>\n",
       "    </tr>\n",
       "    <tr>\n",
       "      <th>2</th>\n",
       "      <td>1.000000</td>\n",
       "      <td>0.933673</td>\n",
       "      <td>50</td>\n",
       "      <td>10</td>\n",
       "    </tr>\n",
       "    <tr>\n",
       "      <th>3</th>\n",
       "      <td>1.000000</td>\n",
       "      <td>0.936224</td>\n",
       "      <td>50</td>\n",
       "      <td>15</td>\n",
       "    </tr>\n",
       "    <tr>\n",
       "      <th>0</th>\n",
       "      <td>0.961297</td>\n",
       "      <td>0.888393</td>\n",
       "      <td>100</td>\n",
       "      <td>1</td>\n",
       "    </tr>\n",
       "    <tr>\n",
       "      <th>1</th>\n",
       "      <td>1.000000</td>\n",
       "      <td>0.933036</td>\n",
       "      <td>100</td>\n",
       "      <td>5</td>\n",
       "    </tr>\n",
       "    <tr>\n",
       "      <th>2</th>\n",
       "      <td>1.000000</td>\n",
       "      <td>0.934311</td>\n",
       "      <td>100</td>\n",
       "      <td>10</td>\n",
       "    </tr>\n",
       "    <tr>\n",
       "      <th>3</th>\n",
       "      <td>1.000000</td>\n",
       "      <td>0.936862</td>\n",
       "      <td>100</td>\n",
       "      <td>15</td>\n",
       "    </tr>\n",
       "    <tr>\n",
       "      <th>0</th>\n",
       "      <td>0.988031</td>\n",
       "      <td>0.910077</td>\n",
       "      <td>250</td>\n",
       "      <td>1</td>\n",
       "    </tr>\n",
       "    <tr>\n",
       "      <th>1</th>\n",
       "      <td>1.000000</td>\n",
       "      <td>0.934949</td>\n",
       "      <td>250</td>\n",
       "      <td>5</td>\n",
       "    </tr>\n",
       "    <tr>\n",
       "      <th>2</th>\n",
       "      <td>1.000000</td>\n",
       "      <td>0.934949</td>\n",
       "      <td>250</td>\n",
       "      <td>10</td>\n",
       "    </tr>\n",
       "    <tr>\n",
       "      <th>3</th>\n",
       "      <td>1.000000</td>\n",
       "      <td>0.936224</td>\n",
       "      <td>250</td>\n",
       "      <td>15</td>\n",
       "    </tr>\n",
       "    <tr>\n",
       "      <th>0</th>\n",
       "      <td>0.999738</td>\n",
       "      <td>0.919005</td>\n",
       "      <td>500</td>\n",
       "      <td>1</td>\n",
       "    </tr>\n",
       "    <tr>\n",
       "      <th>1</th>\n",
       "      <td>1.000000</td>\n",
       "      <td>0.936224</td>\n",
       "      <td>500</td>\n",
       "      <td>5</td>\n",
       "    </tr>\n",
       "    <tr>\n",
       "      <th>2</th>\n",
       "      <td>1.000000</td>\n",
       "      <td>0.936862</td>\n",
       "      <td>500</td>\n",
       "      <td>10</td>\n",
       "    </tr>\n",
       "    <tr>\n",
       "      <th>3</th>\n",
       "      <td>1.000000</td>\n",
       "      <td>0.936862</td>\n",
       "      <td>500</td>\n",
       "      <td>15</td>\n",
       "    </tr>\n",
       "  </tbody>\n",
       "</table>\n",
       "</div>"
      ],
      "text/plain": [
       "      train      test  Estimators  Max Depth\n",
       "0  0.930543  0.868622          50          1\n",
       "1  1.000000  0.935587          50          5\n",
       "2  1.000000  0.933673          50         10\n",
       "3  1.000000  0.936224          50         15\n",
       "0  0.961297  0.888393         100          1\n",
       "1  1.000000  0.933036         100          5\n",
       "2  1.000000  0.934311         100         10\n",
       "3  1.000000  0.936862         100         15\n",
       "0  0.988031  0.910077         250          1\n",
       "1  1.000000  0.934949         250          5\n",
       "2  1.000000  0.934949         250         10\n",
       "3  1.000000  0.936224         250         15\n",
       "0  0.999738  0.919005         500          1\n",
       "1  1.000000  0.936224         500          5\n",
       "2  1.000000  0.936862         500         10\n",
       "3  1.000000  0.936862         500         15"
      ]
     },
     "execution_count": 58,
     "metadata": {},
     "output_type": "execute_result"
    }
   ],
   "source": [
    "xgb_acc_df"
   ]
  },
  {
   "cell_type": "code",
   "execution_count": 59,
   "id": "99af03b3-2c3d-4683-ad9c-a29ff889efbe",
   "metadata": {},
   "outputs": [],
   "source": [
    "# best hyperparameters\n",
    "xgb_model = xgb.XGBClassifier(n_estimators=50, \n",
    "                              learning_rate=1.0,\n",
    "                              max_depth=15, \n",
    "                              random_state=42, \n",
    "                              n_jobs=4).fit(X_train, y_train)\n",
    "xgb_pred_test = xgb_model.predict_proba(X_test)"
   ]
  },
  {
   "cell_type": "code",
   "execution_count": 60,
   "id": "7ca28bbe-8281-4157-8822-087ebec50a00",
   "metadata": {},
   "outputs": [
    {
     "data": {
      "image/png": "[encoded data removed]",
      "text/plain": [
       "<Figure size 432x288 with 2 Axes>"
      ]
     },
     "metadata": {
      "needs_background": "light"
     },
     "output_type": "display_data"
    }
   ],
   "source": [
    "# Predicted Classes\n",
    "xgb_pred = (xgb_pred_test[:, 1] >= 0.5).astype(int)\n",
    "\n",
    "metrics.accuracy_score(y_test, xgb_pred)\n",
    "xgb_cfm = metrics.confusion_matrix(y_test, xgb_pred)\n",
    "sns.heatmap(xgb_cfm, annot=True, fmt='d')\n",
    "plt.title('XGBoost Confusion Matrix - Test Data')\n",
    "plt.show()"
   ]
  },
  {
   "cell_type": "code",
   "execution_count": 61,
   "id": "caca0356-79fd-4af4-b041-936654729096",
   "metadata": {},
   "outputs": [
    {
     "data": {
      "text/html": [
       "<div>\n",
       "<style scoped>\n",
       "    .dataframe tbody tr th:only-of-type {\n",
       "        vertical-align: middle;\n",
       "    }\n",
       "\n",
       "    .dataframe tbody tr th {\n",
       "        vertical-align: top;\n",
       "    }\n",
       "\n",
       "    .dataframe thead th {\n",
       "        text-align: right;\n",
       "    }\n",
       "</style>\n",
       "<table border=\"1\" class=\"dataframe\">\n",
       "  <thead>\n",
       "    <tr style=\"text-align: right;\">\n",
       "      <th></th>\n",
       "      <th>precision</th>\n",
       "      <th>recall</th>\n",
       "      <th>f1-score</th>\n",
       "      <th>support</th>\n",
       "      <th>model</th>\n",
       "    </tr>\n",
       "  </thead>\n",
       "  <tbody>\n",
       "    <tr>\n",
       "      <th>0</th>\n",
       "      <td>0.709677</td>\n",
       "      <td>0.474820</td>\n",
       "      <td>0.568966</td>\n",
       "      <td>139.000000</td>\n",
       "      <td>XGBoost</td>\n",
       "    </tr>\n",
       "    <tr>\n",
       "      <th>1</th>\n",
       "      <td>0.950508</td>\n",
       "      <td>0.981106</td>\n",
       "      <td>0.965565</td>\n",
       "      <td>1429.000000</td>\n",
       "      <td>XGBoost</td>\n",
       "    </tr>\n",
       "    <tr>\n",
       "      <th>accuracy</th>\n",
       "      <td>0.936224</td>\n",
       "      <td>0.936224</td>\n",
       "      <td>0.936224</td>\n",
       "      <td>0.936224</td>\n",
       "      <td>XGBoost</td>\n",
       "    </tr>\n",
       "    <tr>\n",
       "      <th>macro avg</th>\n",
       "      <td>0.830093</td>\n",
       "      <td>0.727963</td>\n",
       "      <td>0.767265</td>\n",
       "      <td>1568.000000</td>\n",
       "      <td>XGBoost</td>\n",
       "    </tr>\n",
       "    <tr>\n",
       "      <th>weighted avg</th>\n",
       "      <td>0.929159</td>\n",
       "      <td>0.936224</td>\n",
       "      <td>0.930407</td>\n",
       "      <td>1568.000000</td>\n",
       "      <td>XGBoost</td>\n",
       "    </tr>\n",
       "  </tbody>\n",
       "</table>\n",
       "</div>"
      ],
      "text/plain": [
       "              precision    recall  f1-score      support    model\n",
       "0              0.709677  0.474820  0.568966   139.000000  XGBoost\n",
       "1              0.950508  0.981106  0.965565  1429.000000  XGBoost\n",
       "accuracy       0.936224  0.936224  0.936224     0.936224  XGBoost\n",
       "macro avg      0.830093  0.727963  0.767265  1568.000000  XGBoost\n",
       "weighted avg   0.929159  0.936224  0.930407  1568.000000  XGBoost"
      ]
     },
     "execution_count": 61,
     "metadata": {},
     "output_type": "execute_result"
    }
   ],
   "source": [
    "xgb_met = pd.DataFrame(metrics.classification_report(y_test, xgb_pred, \n",
    "                                                     output_dict=True)).transpose()\n",
    "xgb_met['model'] = 'XGBoost'\n",
    "all_metrics = pd.concat([all_metrics, xgb_met.reset_index()], axis=0)\n",
    "xgb_met"
   ]
  },
  {
   "cell_type": "markdown",
   "id": "e0d43c18-bc35-4cbd-a5c1-78a1201945ee",
   "metadata": {},
   "source": [
    "### XGBoost - Threshold Tuning"
   ]
  },
  {
   "cell_type": "code",
   "execution_count": 62,
   "id": "6c85982c-601e-4f53-920d-27e58e8eaa0f",
   "metadata": {},
   "outputs": [
    {
     "data": {
      "image/png": "[encoded data removed]",
      "text/plain": [
       "<Figure size 432x288 with 1 Axes>"
      ]
     },
     "metadata": {
      "needs_background": "light"
     },
     "output_type": "display_data"
    },
    {
     "name": "stdout",
     "output_type": "stream",
     "text": [
      "Optimal Threshold 0.995576\n"
     ]
    }
   ],
   "source": [
    "xgb_roc = metrics.roc_curve(y_test, xgb_pred_test[:, 1])\n",
    "xgb_auc = metrics.auc(xgb_roc[0], xgb_roc[1])\n",
    "xgb_plot = metrics.RocCurveDisplay(fpr=xgb_roc[0], tpr=xgb_roc[1], \n",
    "                                   roc_auc=xgb_auc, estimator_name='XGBoost')\n",
    "\n",
    "fig, ax = plt.subplots()\n",
    "fig.suptitle('ROC Curve - XGBoost')\n",
    "plt.plot([0, 1], [0, 1], linestyle = '--', color = '#174ab0')\n",
    "xgb_plot.plot(ax)\n",
    "plt.show()\n",
    "\n",
    "# Optimal Threshold value\n",
    "xgb_opt = xgb_roc[2][np.argmax(xgb_roc[1] - xgb_roc[0])]\n",
    "\n",
    "print('Optimal Threshold %f' % xgb_opt)"
   ]
  },
  {
   "cell_type": "code",
   "execution_count": 63,
   "id": "5bfbcf24-59ed-496e-8520-2f0deecbb131",
   "metadata": {},
   "outputs": [
    {
     "data": {
      "image/png": "[encoded data removed]",
      "text/plain": [
       "<Figure size 432x288 with 2 Axes>"
      ]
     },
     "metadata": {
      "needs_background": "light"
     },
     "output_type": "display_data"
    }
   ],
   "source": [
    "xgb_cfm = metrics.confusion_matrix(y_test, (xgb_pred_test[:, 1] >= xgb_opt).astype(int))\n",
    "sns.heatmap(xgb_cfm, annot=True, fmt='g')\n",
    "plt.title('XGBoost using Optimal Threshold')\n",
    "plt.show()"
   ]
  },
  {
   "cell_type": "code",
   "execution_count": 64,
   "id": "efec1964-5e5f-45a2-89ec-ed96a31f3e1b",
   "metadata": {},
   "outputs": [
    {
     "data": {
      "text/html": [
       "<div>\n",
       "<style scoped>\n",
       "    .dataframe tbody tr th:only-of-type {\n",
       "        vertical-align: middle;\n",
       "    }\n",
       "\n",
       "    .dataframe tbody tr th {\n",
       "        vertical-align: top;\n",
       "    }\n",
       "\n",
       "    .dataframe thead th {\n",
       "        text-align: right;\n",
       "    }\n",
       "</style>\n",
       "<table border=\"1\" class=\"dataframe\">\n",
       "  <thead>\n",
       "    <tr style=\"text-align: right;\">\n",
       "      <th></th>\n",
       "      <th>precision</th>\n",
       "      <th>recall</th>\n",
       "      <th>f1-score</th>\n",
       "      <th>support</th>\n",
       "    </tr>\n",
       "  </thead>\n",
       "  <tbody>\n",
       "    <tr>\n",
       "      <th>0</th>\n",
       "      <td>0.709677</td>\n",
       "      <td>0.474820</td>\n",
       "      <td>0.568966</td>\n",
       "      <td>139.000000</td>\n",
       "    </tr>\n",
       "    <tr>\n",
       "      <th>1</th>\n",
       "      <td>0.950508</td>\n",
       "      <td>0.981106</td>\n",
       "      <td>0.965565</td>\n",
       "      <td>1429.000000</td>\n",
       "    </tr>\n",
       "    <tr>\n",
       "      <th>accuracy</th>\n",
       "      <td>0.936224</td>\n",
       "      <td>0.936224</td>\n",
       "      <td>0.936224</td>\n",
       "      <td>0.936224</td>\n",
       "    </tr>\n",
       "    <tr>\n",
       "      <th>macro avg</th>\n",
       "      <td>0.830093</td>\n",
       "      <td>0.727963</td>\n",
       "      <td>0.767265</td>\n",
       "      <td>1568.000000</td>\n",
       "    </tr>\n",
       "    <tr>\n",
       "      <th>weighted avg</th>\n",
       "      <td>0.929159</td>\n",
       "      <td>0.936224</td>\n",
       "      <td>0.930407</td>\n",
       "      <td>1568.000000</td>\n",
       "    </tr>\n",
       "  </tbody>\n",
       "</table>\n",
       "</div>"
      ],
      "text/plain": [
       "              precision    recall  f1-score      support\n",
       "0              0.709677  0.474820  0.568966   139.000000\n",
       "1              0.950508  0.981106  0.965565  1429.000000\n",
       "accuracy       0.936224  0.936224  0.936224     0.936224\n",
       "macro avg      0.830093  0.727963  0.767265  1568.000000\n",
       "weighted avg   0.929159  0.936224  0.930407  1568.000000"
      ]
     },
     "execution_count": 64,
     "metadata": {},
     "output_type": "execute_result"
    }
   ],
   "source": [
    "pd.DataFrame(metrics.classification_report(y_test, \n",
    "                                           (xgb_pred >= xgb_opt).astype(int), \n",
    "                                           output_dict=True)).transpose()"
   ]
  },
  {
   "cell_type": "markdown",
   "id": "4bf2081e-fc3e-4dbf-ba8e-3725e7b8490a",
   "metadata": {},
   "source": [
    "_________\n",
    "\n",
    "## All Model Metrics"
   ]
  },
  {
   "cell_type": "code",
   "execution_count": 65,
   "id": "60fe3787-bd93-4b95-a0e1-abf111da8995",
   "metadata": {},
   "outputs": [
    {
     "data": {
      "text/plain": [
       "'<table border=\"1\" class=\"dataframe\">\\n  <thead>\\n    <tr style=\"text-align: right;\">\\n      <th></th>\\n      <th></th>\\n      <th>precision</th>\\n      <th>recall</th>\\n      <th>f1-score</th>\\n      <th>support</th>\\n    </tr>\\n    <tr>\\n      <th>model</th>\\n      <th>index</th>\\n      <th></th>\\n      <th></th>\\n      <th></th>\\n      <th></th>\\n    </tr>\\n  </thead>\\n  <tbody>\\n    <tr>\\n      <th rowspan=\"5\" valign=\"top\">Baseline Model</th>\\n      <th>0</th>\\n      <td>0.000000</td>\\n      <td>0.000000</td>\\n      <td>0.000000</td>\\n      <td>139.000000</td>\\n    </tr>\\n    <tr>\\n      <th>1</th>\\n      <td>0.911352</td>\\n      <td>1.000000</td>\\n      <td>0.953620</td>\\n      <td>1429.000000</td>\\n    </tr>\\n    <tr>\\n      <th>accuracy</th>\\n      <td>0.911352</td>\\n      <td>0.911352</td>\\n      <td>0.911352</td>\\n      <td>0.911352</td>\\n    </tr>\\n    <tr>\\n      <th>macro avg</th>\\n      <td>0.455676</td>\\n      <td>0.500000</td>\\n      <td>0.476810</td>\\n      <td>1568.000000</td>\\n    </tr>\\n    <tr>\\n      <th>weighted avg</th>\\n      <td>0.830563</td>\\n      <td>0.911352</td>\\n      <td>0.869084</td>\\n      <td>1568.000000</td>\\n    </tr>\\n    <tr>\\n      <th rowspan=\"5\" valign=\"top\">Logistic Regression</th>\\n      <th>0</th>\\n      <td>0.491429</td>\\n      <td>0.618705</td>\\n      <td>0.547771</td>\\n      <td>139.000000</td>\\n    </tr>\\n    <tr>\\n      <th>1</th>\\n      <td>0.961953</td>\\n      <td>0.937719</td>\\n      <td>0.949681</td>\\n      <td>1429.000000</td>\\n    </tr>\\n    <tr>\\n      <th>accuracy</th>\\n      <td>0.909439</td>\\n      <td>0.909439</td>\\n      <td>0.909439</td>\\n      <td>0.909439</td>\\n    </tr>\\n    <tr>\\n      <th>macro avg</th>\\n      <td>0.726691</td>\\n      <td>0.778212</td>\\n      <td>0.748726</td>\\n      <td>1568.000000</td>\\n    </tr>\\n    <tr>\\n      <th>weighted avg</th>\\n      <td>0.920242</td>\\n      <td>0.909439</td>\\n      <td>0.914053</td>\\n      <td>1568.000000</td>\\n    </tr>\\n    <tr>\\n      <th rowspan=\"5\" valign=\"top\">SVM</th>\\n      <th>0</th>\\n      <td>0.520619</td>\\n      <td>0.726619</td>\\n      <td>0.606607</td>\\n      <td>139.000000</td>\\n    </tr>\\n    <tr>\\n      <th>1</th>\\n      <td>0.972344</td>\\n      <td>0.934920</td>\\n      <td>0.953264</td>\\n      <td>1429.000000</td>\\n    </tr>\\n    <tr>\\n      <th>accuracy</th>\\n      <td>0.916454</td>\\n      <td>0.916454</td>\\n      <td>0.916454</td>\\n      <td>0.916454</td>\\n    </tr>\\n    <tr>\\n      <th>macro avg</th>\\n      <td>0.746481</td>\\n      <td>0.830769</td>\\n      <td>0.779935</td>\\n      <td>1568.000000</td>\\n    </tr>\\n    <tr>\\n      <th>weighted avg</th>\\n      <td>0.932299</td>\\n      <td>0.916454</td>\\n      <td>0.922534</td>\\n      <td>1568.000000</td>\\n    </tr>\\n    <tr>\\n      <th rowspan=\"5\" valign=\"top\">LDA</th>\\n      <th>0</th>\\n      <td>0.369565</td>\\n      <td>0.733813</td>\\n      <td>0.491566</td>\\n      <td>139.000000</td>\\n    </tr>\\n    <tr>\\n      <th>1</th>\\n      <td>0.971362</td>\\n      <td>0.878237</td>\\n      <td>0.922455</td>\\n      <td>1429.000000</td>\\n    </tr>\\n    <tr>\\n      <th>accuracy</th>\\n      <td>0.865434</td>\\n      <td>0.865434</td>\\n      <td>0.865434</td>\\n      <td>0.865434</td>\\n    </tr>\\n    <tr>\\n      <th>macro avg</th>\\n      <td>0.670464</td>\\n      <td>0.806025</td>\\n      <td>0.707011</td>\\n      <td>1568.000000</td>\\n    </tr>\\n    <tr>\\n      <th>weighted avg</th>\\n      <td>0.918014</td>\\n      <td>0.865434</td>\\n      <td>0.884258</td>\\n      <td>1568.000000</td>\\n    </tr>\\n    <tr>\\n      <th rowspan=\"5\" valign=\"top\">QDA</th>\\n      <th>0</th>\\n      <td>0.000000</td>\\n      <td>0.000000</td>\\n      <td>0.000000</td>\\n      <td>139.000000</td>\\n    </tr>\\n    <tr>\\n      <th>1</th>\\n      <td>0.911352</td>\\n      <td>1.000000</td>\\n      <td>0.953620</td>\\n      <td>1429.000000</td>\\n    </tr>\\n    <tr>\\n      <th>accuracy</th>\\n      <td>0.911352</td>\\n      <td>0.911352</td>\\n      <td>0.911352</td>\\n      <td>0.911352</td>\\n    </tr>\\n    <tr>\\n      <th>macro avg</th>\\n      <td>0.455676</td>\\n      <td>0.500000</td>\\n      <td>0.476810</td>\\n      <td>1568.000000</td>\\n    </tr>\\n    <tr>\\n      <th>weighted avg</th>\\n      <td>0.830563</td>\\n      <td>0.911352</td>\\n      <td>0.869084</td>\\n      <td>1568.000000</td>\\n    </tr>\\n    <tr>\\n      <th rowspan=\"5\" valign=\"top\">Naive Bayes</th>\\n      <th>0</th>\\n      <td>0.120652</td>\\n      <td>0.798561</td>\\n      <td>0.209632</td>\\n      <td>139.000000</td>\\n    </tr>\\n    <tr>\\n      <th>1</th>\\n      <td>0.956790</td>\\n      <td>0.433870</td>\\n      <td>0.597015</td>\\n      <td>1429.000000</td>\\n    </tr>\\n    <tr>\\n      <th>accuracy</th>\\n      <td>0.466199</td>\\n      <td>0.466199</td>\\n      <td>0.466199</td>\\n      <td>0.466199</td>\\n    </tr>\\n    <tr>\\n      <th>macro avg</th>\\n      <td>0.538721</td>\\n      <td>0.616215</td>\\n      <td>0.403323</td>\\n      <td>1568.000000</td>\\n    </tr>\\n    <tr>\\n      <th>weighted avg</th>\\n      <td>0.882668</td>\\n      <td>0.466199</td>\\n      <td>0.562674</td>\\n      <td>1568.000000</td>\\n    </tr>\\n    <tr>\\n      <th rowspan=\"5\" valign=\"top\">Decision Trees</th>\\n      <th>0</th>\\n      <td>0.320346</td>\\n      <td>0.532374</td>\\n      <td>0.400000</td>\\n      <td>139.000000</td>\\n    </tr>\\n    <tr>\\n      <th>1</th>\\n      <td>0.951384</td>\\n      <td>0.890133</td>\\n      <td>0.919740</td>\\n      <td>1429.000000</td>\\n    </tr>\\n    <tr>\\n      <th>accuracy</th>\\n      <td>0.858418</td>\\n      <td>0.858418</td>\\n      <td>0.858418</td>\\n      <td>0.858418</td>\\n    </tr>\\n    <tr>\\n      <th>macro avg</th>\\n      <td>0.635865</td>\\n      <td>0.711254</td>\\n      <td>0.659870</td>\\n      <td>1568.000000</td>\\n    </tr>\\n    <tr>\\n      <th>weighted avg</th>\\n      <td>0.895444</td>\\n      <td>0.858418</td>\\n      <td>0.873666</td>\\n      <td>1568.000000</td>\\n    </tr>\\n    <tr>\\n      <th rowspan=\"5\" valign=\"top\">Random Forest</th>\\n      <th>0</th>\\n      <td>0.784810</td>\\n      <td>0.446043</td>\\n      <td>0.568807</td>\\n      <td>139.000000</td>\\n    </tr>\\n    <tr>\\n      <th>1</th>\\n      <td>0.948287</td>\\n      <td>0.988104</td>\\n      <td>0.967786</td>\\n      <td>1429.000000</td>\\n    </tr>\\n    <tr>\\n      <th>accuracy</th>\\n      <td>0.940051</td>\\n      <td>0.940051</td>\\n      <td>0.940051</td>\\n      <td>0.940051</td>\\n    </tr>\\n    <tr>\\n      <th>macro avg</th>\\n      <td>0.866549</td>\\n      <td>0.717073</td>\\n      <td>0.768297</td>\\n      <td>1568.000000</td>\\n    </tr>\\n    <tr>\\n      <th>weighted avg</th>\\n      <td>0.933796</td>\\n      <td>0.940051</td>\\n      <td>0.932417</td>\\n      <td>1568.000000</td>\\n    </tr>\\n    <tr>\\n      <th rowspan=\"5\" valign=\"top\">XGBoost</th>\\n      <th>0</th>\\n      <td>0.709677</td>\\n      <td>0.474820</td>\\n      <td>0.568966</td>\\n      <td>139.000000</td>\\n    </tr>\\n    <tr>\\n      <th>1</th>\\n      <td>0.950508</td>\\n      <td>0.981106</td>\\n      <td>0.965565</td>\\n      <td>1429.000000</td>\\n    </tr>\\n    <tr>\\n      <th>accuracy</th>\\n      <td>0.936224</td>\\n      <td>0.936224</td>\\n      <td>0.936224</td>\\n      <td>0.936224</td>\\n    </tr>\\n    <tr>\\n      <th>macro avg</th>\\n      <td>0.830093</td>\\n      <td>0.727963</td>\\n      <td>0.767265</td>\\n      <td>1568.000000</td>\\n    </tr>\\n    <tr>\\n      <th>weighted avg</th>\\n      <td>0.929159</td>\\n      <td>0.936224</td>\\n      <td>0.930407</td>\\n      <td>1568.000000</td>\\n    </tr>\\n  </tbody>\\n</table>'"
      ]
     },
     "execution_count": 65,
     "metadata": {},
     "output_type": "execute_result"
    }
   ],
   "source": [
    "all_metrics.set_index(['model', 'index']).to_html()"
   ]
  },
  {
   "cell_type": "markdown",
   "id": "05f0dc90-de45-4aa3-b383-603ee71366de",
   "metadata": {},
   "source": [
    "______\n",
    "\n",
    "## Save Models"
   ]
  },
  {
   "cell_type": "code",
   "execution_count": 66,
   "id": "96049468-8497-4814-96da-ad73ee31389f",
   "metadata": {},
   "outputs": [],
   "source": [
    "# save\n",
    "with open('data/models/tlr.pkl','wb') as f:\n",
    "    pickle.dump(tlr,f)\n",
    "\n",
    "with open('data/models/svm.pkl','wb') as f:\n",
    "    pickle.dump(svm,f)\n",
    "\n",
    "with open('data/models/lda.pkl','wb') as f:\n",
    "    pickle.dump(lda_model,f)\n",
    "\n",
    "with open('data/models/qda.pkl','wb') as f:\n",
    "    pickle.dump(qda_model,f)\n",
    "    \n",
    "with open('data/models/nb.pkl','wb') as f:\n",
    "    pickle.dump(nb_model,f)\n",
    "\n",
    "with open('data/models/dt.pkl','wb') as f:\n",
    "    pickle.dump(dt,f)\n",
    "\n",
    "with open('data/models/rf.pkl','wb') as f:\n",
    "    pickle.dump(rf_model,f)\n",
    "    \n",
    "with open('data/models/xgb.pkl','wb') as f:\n",
    "    pickle.dump(xgb_model,f)\n"
   ]
  },
  {
   "cell_type": "code",
   "execution_count": null,
   "id": "0c0fb3b2-d776-4408-b2bb-7461f2870c81",
   "metadata": {},
   "outputs": [],
   "source": []
  }
 ],
 "metadata": {
  "kernelspec": {
   "display_name": "capstone",
   "language": "python",
   "name": "capstone"
  },
  "language_info": {
   "codemirror_mode": {
    "name": "ipython",
    "version": 3
   },
   "file_extension": ".py",
   "mimetype": "text/x-python",
   "name": "python",
   "nbconvert_exporter": "python",
   "pygments_lexer": "ipython3",
   "version": "3.8.10"
  }
 },
 "nbformat": 4,
 "nbformat_minor": 5
}
